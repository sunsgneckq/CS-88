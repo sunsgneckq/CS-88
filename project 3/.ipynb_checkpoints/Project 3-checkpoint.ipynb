{
 "cells": [
  {
   "cell_type": "code",
   "execution_count": 66,
   "metadata": {},
   "outputs": [],
   "source": [
    "import numpy as np\n",
    "import pandas as pd\n",
    "import matplotlib.pyplot as plt\n",
    "from datascience import *\n",
    "import random as rd"
   ]
  },
  {
   "cell_type": "code",
   "execution_count": 3,
   "metadata": {},
   "outputs": [
    {
     "data": {
      "text/html": [
       "<table border=\"1\" class=\"dataframe\">\n",
       "    <thead>\n",
       "        <tr>\n",
       "            <th>Year</th> <th>113 Cause Name</th> <th>Cause Name</th> <th>State</th> <th>Deaths</th> <th>Age-adjusted Death Rate</th>\n",
       "        </tr>\n",
       "    </thead>\n",
       "    <tbody>\n",
       "        <tr>\n",
       "            <td>1999</td> <td>Accidents (unintentional injuries) (V01-X59,Y85-Y86)</td> <td>Unintentional Injuries</td> <td>Alabama             </td> <td>2313  </td> <td>52.2                   </td>\n",
       "        </tr>\n",
       "    </tbody>\n",
       "        <tr>\n",
       "            <td>1999</td> <td>Accidents (unintentional injuries) (V01-X59,Y85-Y86)</td> <td>Unintentional Injuries</td> <td>Alaska              </td> <td>294   </td> <td>55.9                   </td>\n",
       "        </tr>\n",
       "    </tbody>\n",
       "        <tr>\n",
       "            <td>1999</td> <td>Accidents (unintentional injuries) (V01-X59,Y85-Y86)</td> <td>Unintentional Injuries</td> <td>Arizona             </td> <td>2214  </td> <td>44.8                   </td>\n",
       "        </tr>\n",
       "    </tbody>\n",
       "        <tr>\n",
       "            <td>1999</td> <td>Accidents (unintentional injuries) (V01-X59,Y85-Y86)</td> <td>Unintentional Injuries</td> <td>Arkansas            </td> <td>1287  </td> <td>47.6                   </td>\n",
       "        </tr>\n",
       "    </tbody>\n",
       "        <tr>\n",
       "            <td>1999</td> <td>Accidents (unintentional injuries) (V01-X59,Y85-Y86)</td> <td>Unintentional Injuries</td> <td>California          </td> <td>9198  </td> <td>28.7                   </td>\n",
       "        </tr>\n",
       "    </tbody>\n",
       "        <tr>\n",
       "            <td>1999</td> <td>Accidents (unintentional injuries) (V01-X59,Y85-Y86)</td> <td>Unintentional Injuries</td> <td>Colorado            </td> <td>1519  </td> <td>39                     </td>\n",
       "        </tr>\n",
       "    </tbody>\n",
       "        <tr>\n",
       "            <td>1999</td> <td>Accidents (unintentional injuries) (V01-X59,Y85-Y86)</td> <td>Unintentional Injuries</td> <td>Connecticut         </td> <td>1034  </td> <td>29.3                   </td>\n",
       "        </tr>\n",
       "    </tbody>\n",
       "        <tr>\n",
       "            <td>1999</td> <td>Accidents (unintentional injuries) (V01-X59,Y85-Y86)</td> <td>Unintentional Injuries</td> <td>Delaware            </td> <td>267   </td> <td>35.3                   </td>\n",
       "        </tr>\n",
       "    </tbody>\n",
       "        <tr>\n",
       "            <td>1999</td> <td>Accidents (unintentional injuries) (V01-X59,Y85-Y86)</td> <td>Unintentional Injuries</td> <td>District of Columbia</td> <td>161   </td> <td>28.4                   </td>\n",
       "        </tr>\n",
       "    </tbody>\n",
       "        <tr>\n",
       "            <td>1999</td> <td>Accidents (unintentional injuries) (V01-X59,Y85-Y86)</td> <td>Unintentional Injuries</td> <td>Florida             </td> <td>5961  </td> <td>35.7                   </td>\n",
       "        </tr>\n",
       "    </tbody>\n",
       "</table>\n",
       "<p>... (15018 rows omitted)</p>"
      ],
      "text/plain": [
       "Year | 113 Cause Name                                       | Cause Name             | State                | Deaths | Age-adjusted Death Rate\n",
       "1999 | Accidents (unintentional injuries) (V01-X59,Y85-Y86) | Unintentional Injuries | Alabama              | 2313   | 52.2\n",
       "1999 | Accidents (unintentional injuries) (V01-X59,Y85-Y86) | Unintentional Injuries | Alaska               | 294    | 55.9\n",
       "1999 | Accidents (unintentional injuries) (V01-X59,Y85-Y86) | Unintentional Injuries | Arizona              | 2214   | 44.8\n",
       "1999 | Accidents (unintentional injuries) (V01-X59,Y85-Y86) | Unintentional Injuries | Arkansas             | 1287   | 47.6\n",
       "1999 | Accidents (unintentional injuries) (V01-X59,Y85-Y86) | Unintentional Injuries | California           | 9198   | 28.7\n",
       "1999 | Accidents (unintentional injuries) (V01-X59,Y85-Y86) | Unintentional Injuries | Colorado             | 1519   | 39\n",
       "1999 | Accidents (unintentional injuries) (V01-X59,Y85-Y86) | Unintentional Injuries | Connecticut          | 1034   | 29.3\n",
       "1999 | Accidents (unintentional injuries) (V01-X59,Y85-Y86) | Unintentional Injuries | Delaware             | 267    | 35.3\n",
       "1999 | Accidents (unintentional injuries) (V01-X59,Y85-Y86) | Unintentional Injuries | District of Columbia | 161    | 28.4\n",
       "1999 | Accidents (unintentional injuries) (V01-X59,Y85-Y86) | Unintentional Injuries | Florida              | 5961   | 35.7\n",
       "... (15018 rows omitted)"
      ]
     },
     "execution_count": 3,
     "metadata": {},
     "output_type": "execute_result"
    }
   ],
   "source": [
    "drug = Table.read_table(\"https://data.cdc.gov/api/views/xbxb-epbu/rows.csv?accessType=DOWNLOAD\")\n",
    "leading_death = Table.read_table(\"https://data.cdc.gov/api/views/bi63-dtpu/rows.csv?accessType=DOWNLOAD\")\n",
    "# we use the read_table function from datascience moduel\n"
   ]
  },
  {
   "cell_type": "code",
   "execution_count": 4,
   "metadata": {},
   "outputs": [
    {
     "data": {
      "text/html": [
       "<table border=\"1\" class=\"dataframe\">\n",
       "    <thead>\n",
       "        <tr>\n",
       "            <th>State</th> <th>Year</th> <th>Crude Death Rate</th>\n",
       "        </tr>\n",
       "    </thead>\n",
       "    <tbody>\n",
       "        <tr>\n",
       "            <td>Alabama</td> <td>1999</td> <td>3.8148          </td>\n",
       "        </tr>\n",
       "    </tbody>\n",
       "        <tr>\n",
       "            <td>Alabama</td> <td>2000</td> <td>4.4299          </td>\n",
       "        </tr>\n",
       "    </tbody>\n",
       "        <tr>\n",
       "            <td>Alabama</td> <td>2001</td> <td>4.8348          </td>\n",
       "        </tr>\n",
       "    </tbody>\n",
       "        <tr>\n",
       "            <td>Alabama</td> <td>2002</td> <td>4.7097          </td>\n",
       "        </tr>\n",
       "    </tbody>\n",
       "        <tr>\n",
       "            <td>Alabama</td> <td>2003</td> <td>4.3744          </td>\n",
       "        </tr>\n",
       "    </tbody>\n",
       "        <tr>\n",
       "            <td>Alabama</td> <td>2004</td> <td>6.2462          </td>\n",
       "        </tr>\n",
       "    </tbody>\n",
       "        <tr>\n",
       "            <td>Alabama</td> <td>2005</td> <td>6.1928          </td>\n",
       "        </tr>\n",
       "    </tbody>\n",
       "        <tr>\n",
       "            <td>Alabama</td> <td>2006</td> <td>8.598           </td>\n",
       "        </tr>\n",
       "    </tbody>\n",
       "        <tr>\n",
       "            <td>Alabama</td> <td>2007</td> <td>10.9355         </td>\n",
       "        </tr>\n",
       "    </tbody>\n",
       "        <tr>\n",
       "            <td>Alabama</td> <td>2008</td> <td>12.8651         </td>\n",
       "        </tr>\n",
       "    </tbody>\n",
       "</table>\n",
       "<p>... (2852 rows omitted)</p>"
      ],
      "text/plain": [
       "State   | Year | Crude Death Rate\n",
       "Alabama | 1999 | 3.8148\n",
       "Alabama | 2000 | 4.4299\n",
       "Alabama | 2001 | 4.8348\n",
       "Alabama | 2002 | 4.7097\n",
       "Alabama | 2003 | 4.3744\n",
       "Alabama | 2004 | 6.2462\n",
       "Alabama | 2005 | 6.1928\n",
       "Alabama | 2006 | 8.598\n",
       "Alabama | 2007 | 10.9355\n",
       "Alabama | 2008 | 12.8651\n",
       "... (2852 rows omitted)"
      ]
     },
     "execution_count": 4,
     "metadata": {},
     "output_type": "execute_result"
    }
   ],
   "source": [
    "pure = drug.select([\"State\",\"Year\",\"Crude Death Rate\", ])\n",
    "pure"
   ]
  },
  {
   "cell_type": "code",
   "execution_count": 5,
   "metadata": {},
   "outputs": [
    {
     "data": {
      "text/html": [
       "<table border=\"1\" class=\"dataframe\">\n",
       "    <thead>\n",
       "        <tr>\n",
       "            <th>Year</th> <th>Crude Death Rate mean</th>\n",
       "        </tr>\n",
       "    </thead>\n",
       "    <tbody>\n",
       "        <tr>\n",
       "            <td>1999</td> <td>5.92677              </td>\n",
       "        </tr>\n",
       "    </tbody>\n",
       "        <tr>\n",
       "            <td>2000</td> <td>6.0188               </td>\n",
       "        </tr>\n",
       "    </tbody>\n",
       "        <tr>\n",
       "            <td>2001</td> <td>6.59315              </td>\n",
       "        </tr>\n",
       "    </tbody>\n",
       "        <tr>\n",
       "            <td>2002</td> <td>7.69686              </td>\n",
       "        </tr>\n",
       "    </tbody>\n",
       "        <tr>\n",
       "            <td>2003</td> <td>8.37448              </td>\n",
       "        </tr>\n",
       "    </tbody>\n",
       "        <tr>\n",
       "            <td>2004</td> <td>8.67609              </td>\n",
       "        </tr>\n",
       "    </tbody>\n",
       "        <tr>\n",
       "            <td>2005</td> <td>9.39699              </td>\n",
       "        </tr>\n",
       "    </tbody>\n",
       "        <tr>\n",
       "            <td>2006</td> <td>10.748               </td>\n",
       "        </tr>\n",
       "    </tbody>\n",
       "        <tr>\n",
       "            <td>2007</td> <td>10.901               </td>\n",
       "        </tr>\n",
       "    </tbody>\n",
       "        <tr>\n",
       "            <td>2008</td> <td>10.8844              </td>\n",
       "        </tr>\n",
       "    </tbody>\n",
       "</table>\n",
       "<p>... (8 rows omitted)</p>"
      ],
      "text/plain": [
       "Year | Crude Death Rate mean\n",
       "1999 | 5.92677\n",
       "2000 | 6.0188\n",
       "2001 | 6.59315\n",
       "2002 | 7.69686\n",
       "2003 | 8.37448\n",
       "2004 | 8.67609\n",
       "2005 | 9.39699\n",
       "2006 | 10.748\n",
       "2007 | 10.901\n",
       "2008 | 10.8844\n",
       "... (8 rows omitted)"
      ]
     },
     "execution_count": 5,
     "metadata": {},
     "output_type": "execute_result"
    }
   ],
   "source": [
    "death_rate_by_year = pure.group(\"Year\", np.mean)\n",
    "death_rate_by_year.select(\"Year\", \"Crude Death Rate mean\")"
   ]
  },
  {
   "cell_type": "code",
   "execution_count": 6,
   "metadata": {},
   "outputs": [],
   "source": [
    "#Question 1 \n",
    "# We calculate the mean of the crude death rate mean for all states for each year from 2000-2015. As from the data shown above, we can see that the death rate is in the increaing trend along with the year.   "
   ]
  },
  {
   "cell_type": "code",
   "execution_count": 7,
   "metadata": {},
   "outputs": [
    {
     "data": {
      "text/html": [
       "<table border=\"1\" class=\"dataframe\">\n",
       "    <thead>\n",
       "        <tr>\n",
       "            <th>Year</th> <th>Alabama</th> <th>Alaska</th> <th>Arizona</th> <th>Arkansas</th> <th>California</th> <th>Colorado</th> <th>Connecticut</th> <th>Delaware</th> <th>District of Columbia</th> <th>Florida</th> <th>Georgia</th> <th>Hawaii</th> <th>Idaho</th> <th>Illinois</th> <th>Indiana</th> <th>Iowa</th> <th>Kansas</th> <th>Kentucky</th> <th>Louisiana</th> <th>Maine</th> <th>Maryland</th> <th>Massachusetts</th> <th>Michigan</th> <th>Minnesota</th> <th>Mississippi</th> <th>Missouri</th> <th>Montana</th> <th>Nebraska</th> <th>Nevada</th> <th>New Hampshire</th> <th>New Jersey</th> <th>New Mexico</th> <th>New York</th> <th>North Carolina</th> <th>North Dakota</th> <th>Ohio</th> <th>Oklahoma</th> <th>Oregon</th> <th>Pennsylvania</th> <th>Rhode Island</th> <th>South Carolina</th> <th>South Dakota</th> <th>Tennessee</th> <th>Texas</th> <th>United States</th> <th>Utah</th> <th>Vermont</th> <th>Virginia</th> <th>Washington</th> <th>West Virginia</th> <th>Wisconsin</th> <th>Wyoming</th>\n",
       "        </tr>\n",
       "    </thead>\n",
       "    <tbody>\n",
       "        <tr>\n",
       "            <td>1999</td> <td>3.8148 </td> <td>7.3626 </td> <td>10.1715</td> <td>4.2612  </td> <td>7.9465    </td> <td>8.2584  </td> <td>9.1543     </td> <td>6.4517  </td> <td>8.4178              </td> <td>6.3264 </td> <td>3.5173 </td> <td>6.6099 </td> <td>5.017 </td> <td>6.6753  </td> <td>3.1597 </td> <td>1.8165</td> <td>3.323 </td> <td>4.9029  </td> <td>4.2145   </td> <td>5.2889 </td> <td>11.9707 </td> <td>7.7248       </td> <td>4.6478  </td> <td>2.7906   </td> <td>3.0759     </td> <td>4.9623  </td> <td>4.5682 </td> <td>2.2877  </td> <td>11.733 </td> <td>4.4189       </td> <td>6.663     </td> <td>14.7117   </td> <td>5.0787  </td> <td>4.6041        </td> <td>1.8626      </td> <td>4.1198 </td> <td>5.1787  </td> <td>6.1875 </td> <td>8.0725      </td> <td>5.5748      </td> <td>3.6984        </td> <td>2.2654      </td> <td>6.1007   </td> <td>5.2874</td> <td>5.99141      </td> <td>9.3035 </td> <td>4.7959 </td> <td>5.2284  </td> <td>9.4993    </td> <td>4.1395       </td> <td>3.9755   </td> <td>4.0669 </td>\n",
       "        </tr>\n",
       "    </tbody>\n",
       "        <tr>\n",
       "            <td>2000</td> <td>4.4299 </td> <td>7.6563 </td> <td>10.1742</td> <td>5.2368  </td> <td>5.7305    </td> <td>8.1836  </td> <td>9.3964     </td> <td>7.0189  </td> <td>13.2853             </td> <td>7.2517 </td> <td>4.4464 </td> <td>5.2    </td> <td>4.9461</td> <td>6.9891  </td> <td>3.5195 </td> <td>2.4946</td> <td>3.8312</td> <td>5.9627  </td> <td>5.5494   </td> <td>4.7846 </td> <td>11.7625 </td> <td>7.2924       </td> <td>5.6447  </td> <td>2.6426   </td> <td>4.0075     </td> <td>5.4153  </td> <td>4.5445 </td> <td>2.6881  </td> <td>13.6619</td> <td>3.6414       </td> <td>7.6417    </td> <td>14.8979   </td> <td>4.0419  </td> <td>6.0999        </td> <td>2.18        </td> <td>4.959  </td> <td>6.8683  </td> <td>6.0794 </td> <td>9.3396      </td> <td>7.0589      </td> <td>6.4307        </td> <td>2.6496      </td> <td>6.978    </td> <td>4.8965</td> <td>5.86663      </td> <td>9.4037 </td> <td>5.913  </td> <td>5.8063  </td> <td>9.4331    </td> <td>6.2488       </td> <td>4.6237   </td> <td>4.4554 </td>\n",
       "        </tr>\n",
       "    </tbody>\n",
       "        <tr>\n",
       "            <td>2001</td> <td>4.8348 </td> <td>9.7836 </td> <td>10.4675</td> <td>4.6813  </td> <td>3.5557    </td> <td>9.2867  </td> <td>8.943      </td> <td>8.0432  </td> <td>16.1879             </td> <td>10.6744</td> <td>6.1    </td> <td>6.2809 </td> <td>7.4245</td> <td>7.1426  </td> <td>4.6183 </td> <td>2.9673</td> <td>5.107 </td> <td>8.4806  </td> <td>5.918    </td> <td>6.6112 </td> <td>11.8891 </td> <td>10.7696      </td> <td>6.2155  </td> <td>3.7128   </td> <td>5.9236     </td> <td>6.2221  </td> <td>6.1745 </td> <td>3.8376  </td> <td>12.4381</td> <td>6.2922       </td> <td>8.3013    </td> <td>14.0854   </td> <td>5.6543  </td> <td>6.7112        </td> <td>2.1907      </td> <td>6.4721 </td> <td>7.7586  </td> <td>6.9494 </td> <td>7.7893      </td> <td>10.4054     </td> <td>5.9533        </td> <td>3.1663      </td> <td>7.3729   </td> <td>6.4448</td> <td>6.26448      </td> <td>9.1518 </td> <td>7.1869 </td> <td>6.3765  </td> <td>8.3365    </td> <td>11.435       </td> <td>4.9752   </td> <td>4.4475 </td>\n",
       "        </tr>\n",
       "    </tbody>\n",
       "        <tr>\n",
       "            <td>2002</td> <td>4.7097 </td> <td>13.0772</td> <td>11.5636</td> <td>6.5042  </td> <td>8.5312    </td> <td>9.9768  </td> <td>10.2349    </td> <td>10.4197 </td> <td>10.6428             </td> <td>11.5463</td> <td>6.6171 </td> <td>6.2116 </td> <td>8.7289</td> <td>7.8719  </td> <td>4.7596 </td> <td>3.1013</td> <td>6.2649</td> <td>10.416  </td> <td>8.116    </td> <td>10.7256</td> <td>13.2895 </td> <td>10.9861      </td> <td>7.4982  </td> <td>4.0048   </td> <td>6.4016     </td> <td>7.3306  </td> <td>8.5558 </td> <td>3.8188  </td> <td>14.8588</td> <td>8.7464       </td> <td>9.5058    </td> <td>15.4691   </td> <td>4.8229  </td> <td>7.7707        </td> <td>2.6639      </td> <td>8.161  </td> <td>6.8786  </td> <td>9.051  </td> <td>8.8963      </td> <td>9.2871      </td> <td>5.2826        </td> <td>2.8947      </td> <td>8.4715   </td> <td>7.3673</td> <td>7.39265      </td> <td>12.3881</td> <td>7.6368 </td> <td>6.9852  </td> <td>10.624    </td> <td>12.6841      </td> <td>6.2441   </td> <td>6.7998 </td>\n",
       "        </tr>\n",
       "    </tbody>\n",
       "        <tr>\n",
       "            <td>2003</td> <td>4.3744 </td> <td>12.8005</td> <td>12.2315</td> <td>6.7527  </td> <td>8.8162    </td> <td>11.0848 </td> <td>8.8109     </td> <td>9.4132  </td> <td>18.1178             </td> <td>12.0795</td> <td>7.0395 </td> <td>7.3532 </td> <td>7.4814</td> <td>6.7458  </td> <td>7.0038 </td> <td>3.2631</td> <td>6.9041</td> <td>13.6016 </td> <td>11.8557  </td> <td>10.1798</td> <td>14.1733 </td> <td>12.8142      </td> <td>7.5788  </td> <td>4.8678   </td> <td>7.2168     </td> <td>9.1428  </td> <td>10.1128</td> <td>3.1634  </td> <td>15.2078</td> <td>9.9231       </td> <td>8.3824    </td> <td>19.0672   </td> <td>5.0271  </td> <td>9.0472        </td> <td>3.4439      </td> <td>6.7776 </td> <td>11.4126 </td> <td>10.0074</td> <td>11.1599     </td> <td>13.6278     </td> <td>6.9152        </td> <td>3.1425      </td> <td>11.3205  </td> <td>7.957 </td> <td>7.89291      </td> <td>14.9568</td> <td>10.5202</td> <td>7.425   </td> <td>11.4021   </td> <td>14.4568      </td> <td>6.9901   </td> <td>5.9588 </td>\n",
       "        </tr>\n",
       "    </tbody>\n",
       "        <tr>\n",
       "            <td>2004</td> <td>6.2462 </td> <td>13.0444</td> <td>13.1625</td> <td>8.3646  </td> <td>8.7844    </td> <td>11.3224 </td> <td>9.5249     </td> <td>7.583   </td> <td>15.3235             </td> <td>13     </td> <td>7.5947 </td> <td>8.0875 </td> <td>7.0412</td> <td>8.221   </td> <td>8.6956 </td> <td>4.1305</td> <td>8.192 </td> <td>12.6866 </td> <td>11.8403  </td> <td>10.657 </td> <td>12.1869 </td> <td>10.4331      </td> <td>8.6223  </td> <td>4.9138   </td> <td>7.7535     </td> <td>9.5342  </td> <td>10.5375</td> <td>3.3726  </td> <td>16.1963</td> <td>9.6115       </td> <td>6.833     </td> <td>16.4933   </td> <td>4.3345  </td> <td>9.9846        </td> <td>2.6369      </td> <td>9.9194 </td> <td>13.5027 </td> <td>10.2256</td> <td>12.4409     </td> <td>9.8643      </td> <td>8.4542        </td> <td>5.5815      </td> <td>12.9086  </td> <td>8.0959</td> <td>8.17318      </td> <td>14.9069</td> <td>8.0656 </td> <td>7.4643  </td> <td>13.1259   </td> <td>18.3326      </td> <td>7.9252   </td> <td>9.0354 </td>\n",
       "        </tr>\n",
       "    </tbody>\n",
       "        <tr>\n",
       "            <td>2005</td> <td>6.1928 </td> <td>11.845 </td> <td>13.598 </td> <td>9.6724  </td> <td>8.9707    </td> <td>13.1264 </td> <td>8.4119     </td> <td>7.336   </td> <td>13.577              </td> <td>13.2888</td> <td>8.2681 </td> <td>9.7468 </td> <td>7.6318</td> <td>8.4616  </td> <td>9.7155 </td> <td>4.7564</td> <td>8.7786</td> <td>15.2532 </td> <td>14.4429  </td> <td>12.3598</td> <td>11.7302 </td> <td>12.1812      </td> <td>9.7999  </td> <td>5.5082   </td> <td>8.5342     </td> <td>10.5003 </td> <td>10.2117</td> <td>4.8822  </td> <td>18.79  </td> <td>10.9358      </td> <td>9.5123    </td> <td>19.3037   </td> <td>4.934   </td> <td>11.4871       </td> <td>1.8573      </td> <td>10.8433</td> <td>13.4701 </td> <td>10.683 </td> <td>12.9558     </td> <td>14.6079     </td> <td>9.9996        </td> <td>5.158       </td> <td>14.555   </td> <td>8.3852</td> <td>8.94216      </td> <td>17.8214</td> <td>8.5317 </td> <td>7.6678  </td> <td>13.5841   </td> <td>10.1072      </td> <td>9.3398   </td> <td>5.0568 </td>\n",
       "        </tr>\n",
       "    </tbody>\n",
       "        <tr>\n",
       "            <td>2006</td> <td>8.598  </td> <td>11.2542</td> <td>14.5294</td> <td>10.1001 </td> <td>9.6998    </td> <td>13.2827 </td> <td>11.5708    </td> <td>9.0775  </td> <td>17.6982             </td> <td>14.2621</td> <td>9.0653 </td> <td>6.5662 </td> <td>8.8516</td> <td>10.8273 </td> <td>11.6223</td> <td>6.2696</td> <td>9.3017</td> <td>17.2543 </td> <td>16.3852  </td> <td>12.0125</td> <td>13.541  </td> <td>15.1324      </td> <td>11.7177 </td> <td>6.023    </td> <td>11.6696    </td> <td>12.7167 </td> <td>10.1817</td> <td>5.1334  </td> <td>18.2744</td> <td>11.3881      </td> <td>9.7787    </td> <td>21.3033   </td> <td>8.7937  </td> <td>11.8758       </td> <td>2.1558      </td> <td>13.1955</td> <td>15.6646 </td> <td>13.2121</td> <td>13.0927     </td> <td>16.4614     </td> <td>12.7127       </td> <td>4.7252      </td> <td>16.0131  </td> <td>9.3794</td> <td>10.2194      </td> <td>17.5806</td> <td>12.0406</td> <td>8.1968  </td> <td>14.08     </td> <td>19.804       </td> <td>10.6317  </td> <td>10.523 </td>\n",
       "        </tr>\n",
       "    </tbody>\n",
       "        <tr>\n",
       "            <td>2007</td> <td>10.9355</td> <td>10.5836</td> <td>15.2894</td> <td>10.5664 </td> <td>10.6316   </td> <td>15.2794 </td> <td>12.2758    </td> <td>11.1271 </td> <td>10.6197             </td> <td>15.2114</td> <td>9.8717 </td> <td>10.3369</td> <td>8.3715</td> <td>9.3889  </td> <td>12.2421</td> <td>6.7684</td> <td>9.699 </td> <td>16.6327 </td> <td>18.4661  </td> <td>11.9816</td> <td>13.6024 </td> <td>14.3356      </td> <td>12.3584 </td> <td>6.5486   </td> <td>10.7228    </td> <td>12.1272 </td> <td>12.9573</td> <td>4.4857  </td> <td>19.1844</td> <td>14.171       </td> <td>8.3776    </td> <td>23.2153   </td> <td>8.9273  </td> <td>11.8885       </td> <td>4.9018      </td> <td>13.8429</td> <td>18.3252 </td> <td>13.4859</td> <td>13.7934     </td> <td>12.7682     </td> <td>12.2634       </td> <td>4.0423      </td> <td>15.9495  </td> <td>9.2061</td> <td>10.2482      </td> <td>19.6709</td> <td>10.5857</td> <td>9.0311  </td> <td>14.888    </td> <td>21.6461      </td> <td>11.0858  </td> <td>11.7784</td>\n",
       "        </tr>\n",
       "    </tbody>\n",
       "        <tr>\n",
       "            <td>2008</td> <td>12.8651</td> <td>18.4739</td> <td>13.184 </td> <td>12.5237 </td> <td>10.5534   </td> <td>15.3178 </td> <td>10.8868    </td> <td>14.0291 </td> <td>9.6512              </td> <td>15.9926</td> <td>9.8371 </td> <td>9.2328 </td> <td>9.5156</td> <td>10.6142 </td> <td>12.9187</td> <td>6.928 </td> <td>7.7989</td> <td>17.8094 </td> <td>14.5866  </td> <td>12.1758</td> <td>12.19   </td> <td>12.1503      </td> <td>12.4562 </td> <td>7.3184   </td> <td>10.2788    </td> <td>12.9138 </td> <td>13.7237</td> <td>5.2328  </td> <td>19.5581</td> <td>9.5752       </td> <td>8.0587    </td> <td>25.7627   </td> <td>8.8016  </td> <td>12.8472       </td> <td>6.9955      </td> <td>15.0494</td> <td>15.3721 </td> <td>11.9934</td> <td>14.6682     </td> <td>17.5355     </td> <td>12.4752       </td> <td>6.7574      </td> <td>15.0142  </td> <td>8.4454</td> <td>10.0691      </td> <td>17.574 </td> <td>11.6959</td> <td>9.1658  </td> <td>15.4063   </td> <td>24.9415      </td> <td>10.7428  </td> <td>13.552 </td>\n",
       "        </tr>\n",
       "    </tbody>\n",
       "</table>\n",
       "<p>... (8 rows omitted)</p>"
      ],
      "text/plain": [
       "Year | Alabama | Alaska  | Arizona | Arkansas | California | Colorado | Connecticut | Delaware | District of Columbia | Florida | Georgia | Hawaii  | Idaho  | Illinois | Indiana | Iowa   | Kansas | Kentucky | Louisiana | Maine   | Maryland | Massachusetts | Michigan | Minnesota | Mississippi | Missouri | Montana | Nebraska | Nevada  | New Hampshire | New Jersey | New Mexico | New York | North Carolina | North Dakota | Ohio    | Oklahoma | Oregon  | Pennsylvania | Rhode Island | South Carolina | South Dakota | Tennessee | Texas  | United States | Utah    | Vermont | Virginia | Washington | West Virginia | Wisconsin | Wyoming\n",
       "1999 | 3.8148  | 7.3626  | 10.1715 | 4.2612   | 7.9465     | 8.2584   | 9.1543      | 6.4517   | 8.4178               | 6.3264  | 3.5173  | 6.6099  | 5.017  | 6.6753   | 3.1597  | 1.8165 | 3.323  | 4.9029   | 4.2145    | 5.2889  | 11.9707  | 7.7248        | 4.6478   | 2.7906    | 3.0759      | 4.9623   | 4.5682  | 2.2877   | 11.733  | 4.4189        | 6.663      | 14.7117    | 5.0787   | 4.6041         | 1.8626       | 4.1198  | 5.1787   | 6.1875  | 8.0725       | 5.5748       | 3.6984         | 2.2654       | 6.1007    | 5.2874 | 5.99141       | 9.3035  | 4.7959  | 5.2284   | 9.4993     | 4.1395        | 3.9755    | 4.0669\n",
       "2000 | 4.4299  | 7.6563  | 10.1742 | 5.2368   | 5.7305     | 8.1836   | 9.3964      | 7.0189   | 13.2853              | 7.2517  | 4.4464  | 5.2     | 4.9461 | 6.9891   | 3.5195  | 2.4946 | 3.8312 | 5.9627   | 5.5494    | 4.7846  | 11.7625  | 7.2924        | 5.6447   | 2.6426    | 4.0075      | 5.4153   | 4.5445  | 2.6881   | 13.6619 | 3.6414        | 7.6417     | 14.8979    | 4.0419   | 6.0999         | 2.18         | 4.959   | 6.8683   | 6.0794  | 9.3396       | 7.0589       | 6.4307         | 2.6496       | 6.978     | 4.8965 | 5.86663       | 9.4037  | 5.913   | 5.8063   | 9.4331     | 6.2488        | 4.6237    | 4.4554\n",
       "2001 | 4.8348  | 9.7836  | 10.4675 | 4.6813   | 3.5557     | 9.2867   | 8.943       | 8.0432   | 16.1879              | 10.6744 | 6.1     | 6.2809  | 7.4245 | 7.1426   | 4.6183  | 2.9673 | 5.107  | 8.4806   | 5.918     | 6.6112  | 11.8891  | 10.7696       | 6.2155   | 3.7128    | 5.9236      | 6.2221   | 6.1745  | 3.8376   | 12.4381 | 6.2922        | 8.3013     | 14.0854    | 5.6543   | 6.7112         | 2.1907       | 6.4721  | 7.7586   | 6.9494  | 7.7893       | 10.4054      | 5.9533         | 3.1663       | 7.3729    | 6.4448 | 6.26448       | 9.1518  | 7.1869  | 6.3765   | 8.3365     | 11.435        | 4.9752    | 4.4475\n",
       "2002 | 4.7097  | 13.0772 | 11.5636 | 6.5042   | 8.5312     | 9.9768   | 10.2349     | 10.4197  | 10.6428              | 11.5463 | 6.6171  | 6.2116  | 8.7289 | 7.8719   | 4.7596  | 3.1013 | 6.2649 | 10.416   | 8.116     | 10.7256 | 13.2895  | 10.9861       | 7.4982   | 4.0048    | 6.4016      | 7.3306   | 8.5558  | 3.8188   | 14.8588 | 8.7464        | 9.5058     | 15.4691    | 4.8229   | 7.7707         | 2.6639       | 8.161   | 6.8786   | 9.051   | 8.8963       | 9.2871       | 5.2826         | 2.8947       | 8.4715    | 7.3673 | 7.39265       | 12.3881 | 7.6368  | 6.9852   | 10.624     | 12.6841       | 6.2441    | 6.7998\n",
       "2003 | 4.3744  | 12.8005 | 12.2315 | 6.7527   | 8.8162     | 11.0848  | 8.8109      | 9.4132   | 18.1178              | 12.0795 | 7.0395  | 7.3532  | 7.4814 | 6.7458   | 7.0038  | 3.2631 | 6.9041 | 13.6016  | 11.8557   | 10.1798 | 14.1733  | 12.8142       | 7.5788   | 4.8678    | 7.2168      | 9.1428   | 10.1128 | 3.1634   | 15.2078 | 9.9231        | 8.3824     | 19.0672    | 5.0271   | 9.0472         | 3.4439       | 6.7776  | 11.4126  | 10.0074 | 11.1599      | 13.6278      | 6.9152         | 3.1425       | 11.3205   | 7.957  | 7.89291       | 14.9568 | 10.5202 | 7.425    | 11.4021    | 14.4568       | 6.9901    | 5.9588\n",
       "2004 | 6.2462  | 13.0444 | 13.1625 | 8.3646   | 8.7844     | 11.3224  | 9.5249      | 7.583    | 15.3235              | 13      | 7.5947  | 8.0875  | 7.0412 | 8.221    | 8.6956  | 4.1305 | 8.192  | 12.6866  | 11.8403   | 10.657  | 12.1869  | 10.4331       | 8.6223   | 4.9138    | 7.7535      | 9.5342   | 10.5375 | 3.3726   | 16.1963 | 9.6115        | 6.833      | 16.4933    | 4.3345   | 9.9846         | 2.6369       | 9.9194  | 13.5027  | 10.2256 | 12.4409      | 9.8643       | 8.4542         | 5.5815       | 12.9086   | 8.0959 | 8.17318       | 14.9069 | 8.0656  | 7.4643   | 13.1259    | 18.3326       | 7.9252    | 9.0354\n",
       "2005 | 6.1928  | 11.845  | 13.598  | 9.6724   | 8.9707     | 13.1264  | 8.4119      | 7.336    | 13.577               | 13.2888 | 8.2681  | 9.7468  | 7.6318 | 8.4616   | 9.7155  | 4.7564 | 8.7786 | 15.2532  | 14.4429   | 12.3598 | 11.7302  | 12.1812       | 9.7999   | 5.5082    | 8.5342      | 10.5003  | 10.2117 | 4.8822   | 18.79   | 10.9358       | 9.5123     | 19.3037    | 4.934    | 11.4871        | 1.8573       | 10.8433 | 13.4701  | 10.683  | 12.9558      | 14.6079      | 9.9996         | 5.158        | 14.555    | 8.3852 | 8.94216       | 17.8214 | 8.5317  | 7.6678   | 13.5841    | 10.1072       | 9.3398    | 5.0568\n",
       "2006 | 8.598   | 11.2542 | 14.5294 | 10.1001  | 9.6998     | 13.2827  | 11.5708     | 9.0775   | 17.6982              | 14.2621 | 9.0653  | 6.5662  | 8.8516 | 10.8273  | 11.6223 | 6.2696 | 9.3017 | 17.2543  | 16.3852   | 12.0125 | 13.541   | 15.1324       | 11.7177  | 6.023     | 11.6696     | 12.7167  | 10.1817 | 5.1334   | 18.2744 | 11.3881       | 9.7787     | 21.3033    | 8.7937   | 11.8758        | 2.1558       | 13.1955 | 15.6646  | 13.2121 | 13.0927      | 16.4614      | 12.7127        | 4.7252       | 16.0131   | 9.3794 | 10.2194       | 17.5806 | 12.0406 | 8.1968   | 14.08      | 19.804        | 10.6317   | 10.523\n",
       "2007 | 10.9355 | 10.5836 | 15.2894 | 10.5664  | 10.6316    | 15.2794  | 12.2758     | 11.1271  | 10.6197              | 15.2114 | 9.8717  | 10.3369 | 8.3715 | 9.3889   | 12.2421 | 6.7684 | 9.699  | 16.6327  | 18.4661   | 11.9816 | 13.6024  | 14.3356       | 12.3584  | 6.5486    | 10.7228     | 12.1272  | 12.9573 | 4.4857   | 19.1844 | 14.171        | 8.3776     | 23.2153    | 8.9273   | 11.8885        | 4.9018       | 13.8429 | 18.3252  | 13.4859 | 13.7934      | 12.7682      | 12.2634        | 4.0423       | 15.9495   | 9.2061 | 10.2482       | 19.6709 | 10.5857 | 9.0311   | 14.888     | 21.6461       | 11.0858   | 11.7784\n",
       "2008 | 12.8651 | 18.4739 | 13.184  | 12.5237  | 10.5534    | 15.3178  | 10.8868     | 14.0291  | 9.6512               | 15.9926 | 9.8371  | 9.2328  | 9.5156 | 10.6142  | 12.9187 | 6.928  | 7.7989 | 17.8094  | 14.5866   | 12.1758 | 12.19    | 12.1503       | 12.4562  | 7.3184    | 10.2788     | 12.9138  | 13.7237 | 5.2328   | 19.5581 | 9.5752        | 8.0587     | 25.7627    | 8.8016   | 12.8472        | 6.9955       | 15.0494 | 15.3721  | 11.9934 | 14.6682      | 17.5355      | 12.4752        | 6.7574       | 15.0142   | 8.4454 | 10.0691       | 17.574  | 11.6959 | 9.1658   | 15.4063    | 24.9415       | 10.7428   | 13.552\n",
       "... (8 rows omitted)"
      ]
     },
     "execution_count": 7,
     "metadata": {},
     "output_type": "execute_result"
    }
   ],
   "source": [
    "state_name = pure.where(\"Year\", 2000).where('State', are.not_equal_to('United States')).select(['State'])\n",
    "state_lst = state_name.column(0).tolist()\n",
    "death_by_state_year= pure.pivot(\"State\", \"Year\", values='Crude Death Rate', collect = np.mean)\n",
    "death_by_state_year_sort= death_by_state_year.drop(45)\n",
    "lst= []\n",
    "for i in range(1, 52):\n",
    "    avg = np.mean(death_by_state_year_sort.column(i))\n",
    "    lst += [avg]\n",
    "death_by_state_year"
   ]
  },
  {
   "cell_type": "code",
   "execution_count": 8,
   "metadata": {},
   "outputs": [
    {
     "data": {
      "text/plain": [
       "array(['West Virginia', 'New Mexico', 'Nevada', 'Kentucky', 'Utah',\n",
       "       'Rhode Island', 'Pennsylvania', 'Oklahoma', 'Arizona', 'Tennessee'], \n",
       "      dtype='<U13')"
      ]
     },
     "execution_count": 8,
     "metadata": {},
     "output_type": "execute_result"
    }
   ],
   "source": [
    "new_table = Table().with_columns(\"State name\",state_lst, \n",
    "                    \"mean death rate\", lst)\n",
    "new_table.sort(\"mean death rate\",descending = True).take[0:10]\n",
    "Top_10 = new_table.sort(\"mean death rate\",descending = True).take[0:10].column(0)\n",
    "Top_10"
   ]
  },
  {
   "cell_type": "code",
   "execution_count": 9,
   "metadata": {},
   "outputs": [
    {
     "data": {
      "text/html": [
       "<table border=\"1\" class=\"dataframe\">\n",
       "    <thead>\n",
       "        <tr>\n",
       "            <th>Year</th> <th>State</th> <th>Age-adjusted Death Rate</th>\n",
       "        </tr>\n",
       "    </thead>\n",
       "    <tbody>\n",
       "        <tr>\n",
       "            <td>1999</td> <td>Alabama             </td> <td>9.9                    </td>\n",
       "        </tr>\n",
       "    </tbody>\n",
       "        <tr>\n",
       "            <td>1999</td> <td>Alaska              </td> <td>8.1                    </td>\n",
       "        </tr>\n",
       "    </tbody>\n",
       "        <tr>\n",
       "            <td>1999</td> <td>Arizona             </td> <td>9.2                    </td>\n",
       "        </tr>\n",
       "    </tbody>\n",
       "        <tr>\n",
       "            <td>1999</td> <td>Arkansas            </td> <td>6.8                    </td>\n",
       "        </tr>\n",
       "    </tbody>\n",
       "        <tr>\n",
       "            <td>1999</td> <td>California          </td> <td>6                      </td>\n",
       "        </tr>\n",
       "    </tbody>\n",
       "        <tr>\n",
       "            <td>1999</td> <td>Colorado            </td> <td>4.5                    </td>\n",
       "        </tr>\n",
       "    </tbody>\n",
       "        <tr>\n",
       "            <td>1999</td> <td>Connecticut         </td> <td>3.7                    </td>\n",
       "        </tr>\n",
       "    </tbody>\n",
       "        <tr>\n",
       "            <td>1999</td> <td>Delaware            </td> <td>3                      </td>\n",
       "        </tr>\n",
       "    </tbody>\n",
       "        <tr>\n",
       "            <td>1999</td> <td>District of Columbia</td> <td>29.6                   </td>\n",
       "        </tr>\n",
       "    </tbody>\n",
       "        <tr>\n",
       "            <td>1999</td> <td>Florida             </td> <td>6.3                    </td>\n",
       "        </tr>\n",
       "    </tbody>\n",
       "</table>\n",
       "<p>... (874 rows omitted)</p>"
      ],
      "text/plain": [
       "Year | State                | Age-adjusted Death Rate\n",
       "1999 | Alabama              | 9.9\n",
       "1999 | Alaska               | 8.1\n",
       "1999 | Arizona              | 9.2\n",
       "1999 | Arkansas             | 6.8\n",
       "1999 | California           | 6\n",
       "1999 | Colorado             | 4.5\n",
       "1999 | Connecticut          | 3.7\n",
       "1999 | Delaware             | 3\n",
       "1999 | District of Columbia | 29.6\n",
       "1999 | Florida              | 6.3\n",
       "... (874 rows omitted)"
      ]
     },
     "execution_count": 9,
     "metadata": {},
     "output_type": "execute_result"
    }
   ],
   "source": [
    "pure_1 = leading_death.where('Cause Name', 'Homicide').select(['Year', 'State', 'Age-adjusted Death Rate'])\n",
    "pure_1\n"
   ]
  },
  {
   "cell_type": "code",
   "execution_count": 10,
   "metadata": {},
   "outputs": [
    {
     "data": {
      "text/html": [
       "<table border=\"1\" class=\"dataframe\">\n",
       "    <thead>\n",
       "        <tr>\n",
       "            <th>Year</th> <th>Alabama</th> <th>Alaska</th> <th>Arizona</th> <th>Arkansas</th> <th>California</th> <th>Colorado</th> <th>Connecticut</th> <th>Delaware</th> <th>District of Columbia</th> <th>Florida</th> <th>Georgia</th> <th>Hawaii</th> <th>Idaho</th> <th>Illinois</th> <th>Indiana</th> <th>Iowa</th> <th>Kansas</th> <th>Kentucky</th> <th>Louisiana</th> <th>Maine</th> <th>Maryland</th> <th>Massachusetts</th> <th>Michigan</th> <th>Minnesota</th> <th>Mississippi</th> <th>Missouri</th> <th>Montana</th> <th>Nebraska</th> <th>Nevada</th> <th>New Hampshire</th> <th>New Jersey</th> <th>New Mexico</th> <th>New York</th> <th>North Carolina</th> <th>North Dakota</th> <th>Ohio</th> <th>Oklahoma</th> <th>Oregon</th> <th>Pennsylvania</th> <th>Rhode Island</th> <th>South Carolina</th> <th>South Dakota</th> <th>Tennessee</th> <th>Texas</th> <th>United States</th> <th>Utah</th> <th>Vermont</th> <th>Virginia</th> <th>Washington</th> <th>West Virginia</th> <th>Wisconsin</th> <th>Wyoming</th>\n",
       "        </tr>\n",
       "    </thead>\n",
       "    <tbody>\n",
       "        <tr>\n",
       "            <td>1999</td> <td>9.9    </td> <td>8.1   </td> <td>9.2    </td> <td>6.8     </td> <td>6         </td> <td>4.5     </td> <td>3.7        </td> <td>3       </td> <td>29.6                </td> <td>6.3    </td> <td>7.5    </td> <td>3.1   </td> <td>2.4  </td> <td>8.1     </td> <td>6.3    </td> <td>1.8 </td> <td>5.1   </td> <td>5.1     </td> <td>10.7     </td> <td>2    </td> <td>10.2    </td> <td>2.1          </td> <td>7.7     </td> <td>2.8      </td> <td>10.9       </td> <td>7       </td> <td>3.8    </td> <td>3.5     </td> <td>8.7   </td> <td>1.8          </td> <td>3.6       </td> <td>9.2       </td> <td>5.1     </td> <td>8             </td> <td>nan         </td> <td>4   </td> <td>6.7     </td> <td>3.1   </td> <td>5.4         </td> <td>3.5         </td> <td>7.8           </td> <td>3.2         </td> <td>7.4      </td> <td>6.3  </td> <td>6            </td> <td>2.3 </td> <td>nan    </td> <td>5.9     </td> <td>3.2       </td> <td>5.5          </td> <td>3.8      </td> <td>nan    </td>\n",
       "        </tr>\n",
       "    </tbody>\n",
       "        <tr>\n",
       "            <td>2000</td> <td>10     </td> <td>5.6   </td> <td>7.9    </td> <td>7.6     </td> <td>5.9       </td> <td>3.4     </td> <td>2.9        </td> <td>2.9     </td> <td>28.9                </td> <td>6.1    </td> <td>7.8    </td> <td>2.9   </td> <td>1.9  </td> <td>7.9     </td> <td>6      </td> <td>2   </td> <td>5.3   </td> <td>5       </td> <td>13.2     </td> <td>nan  </td> <td>9.7     </td> <td>1.9          </td> <td>7.3     </td> <td>2.8      </td> <td>10.9       </td> <td>7.2     </td> <td>4      </td> <td>3.7     </td> <td>6.7   </td> <td>nan          </td> <td>3.9       </td> <td>8.8       </td> <td>5.2     </td> <td>8             </td> <td>nan         </td> <td>4.1 </td> <td>5.9     </td> <td>2.7   </td> <td>5.5         </td> <td>3.8         </td> <td>8             </td> <td>nan         </td> <td>8.2      </td> <td>6.2  </td> <td>5.9          </td> <td>2.3 </td> <td>nan    </td> <td>6.1     </td> <td>3.4       </td> <td>4.4          </td> <td>3.2      </td> <td>nan    </td>\n",
       "        </tr>\n",
       "    </tbody>\n",
       "        <tr>\n",
       "            <td>2001</td> <td>9.6    </td> <td>5.7   </td> <td>9.3    </td> <td>6.9     </td> <td>6.2       </td> <td>3.7     </td> <td>5.1        </td> <td>4.1     </td> <td>30.9                </td> <td>6.1    </td> <td>7.8    </td> <td>2.8   </td> <td>3.1  </td> <td>8.6     </td> <td>7.1    </td> <td>2.1 </td> <td>5.3   </td> <td>5.4     </td> <td>12       </td> <td>1.7  </td> <td>10.4    </td> <td>3.8          </td> <td>6.9     </td> <td>2.5      </td> <td>11.5       </td> <td>7.8     </td> <td>3.6    </td> <td>2.6     </td> <td>8.4   </td> <td>2.2          </td> <td>12.2      </td> <td>7.1       </td> <td>14.6    </td> <td>7.2           </td> <td>nan         </td> <td>4.7 </td> <td>6.1     </td> <td>2.9   </td> <td>5.7         </td> <td>3.5         </td> <td>8.6           </td> <td>nan         </td> <td>7.8      </td> <td>6.4  </td> <td>7.1          </td> <td>3.4 </td> <td>nan    </td> <td>6.9     </td> <td>3.2       </td> <td>3.7          </td> <td>3.9      </td> <td>nan    </td>\n",
       "        </tr>\n",
       "    </tbody>\n",
       "        <tr>\n",
       "            <td>2002</td> <td>9.3    </td> <td>5.9   </td> <td>9.3    </td> <td>7.3     </td> <td>6.9       </td> <td>4       </td> <td>3          </td> <td>4.7     </td> <td>36.3                </td> <td>6.3    </td> <td>7.6    </td> <td>3.1   </td> <td>2.4  </td> <td>8       </td> <td>6.2    </td> <td>2   </td> <td>4.8   </td> <td>4.8     </td> <td>13.3     </td> <td>nan  </td> <td>10.1    </td> <td>2.9          </td> <td>7       </td> <td>2.5      </td> <td>10.7       </td> <td>6.5     </td> <td>2.5    </td> <td>3       </td> <td>8     </td> <td>nan          </td> <td>4         </td> <td>8.7       </td> <td>4.8     </td> <td>7.6           </td> <td>nan         </td> <td>4.9 </td> <td>5.6     </td> <td>3.1   </td> <td>5.4         </td> <td>4           </td> <td>7.9           </td> <td>3           </td> <td>8        </td> <td>6.4  </td> <td>6.1          </td> <td>2.3 </td> <td>nan    </td> <td>5.4     </td> <td>3.5       </td> <td>5.5          </td> <td>3.5      </td> <td>4.6    </td>\n",
       "        </tr>\n",
       "    </tbody>\n",
       "        <tr>\n",
       "            <td>2003</td> <td>9.7    </td> <td>6.9   </td> <td>8.8    </td> <td>7.3     </td> <td>6.9       </td> <td>4.1     </td> <td>3.1        </td> <td>3.1     </td> <td>30.6                </td> <td>6.1    </td> <td>8.3    </td> <td>1.6   </td> <td>2.4  </td> <td>7.6     </td> <td>5.6    </td> <td>1.8 </td> <td>4.5   </td> <td>4.7     </td> <td>13.2     </td> <td>nan  </td> <td>10.3    </td> <td>2.2          </td> <td>6.6     </td> <td>2.5      </td> <td>10.7       </td> <td>5.8     </td> <td>4.2    </td> <td>3.6     </td> <td>8     </td> <td>1.6          </td> <td>5.1       </td> <td>8.8       </td> <td>5       </td> <td>7             </td> <td>nan         </td> <td>4.7 </td> <td>6.4     </td> <td>2.6   </td> <td>5.7         </td> <td>2.7         </td> <td>7.8           </td> <td>nan         </td> <td>7.5      </td> <td>6.8  </td> <td>6.1          </td> <td>2.5 </td> <td>nan    </td> <td>6.2     </td> <td>3.5       </td> <td>5            </td> <td>3.6      </td> <td>nan    </td>\n",
       "        </tr>\n",
       "    </tbody>\n",
       "        <tr>\n",
       "            <td>2004</td> <td>8.3    </td> <td>6.1   </td> <td>9      </td> <td>7.8     </td> <td>6.8       </td> <td>4.7     </td> <td>3.3        </td> <td>4.2     </td> <td>27.9                </td> <td>6.1    </td> <td>7.4    </td> <td>2.4   </td> <td>2.2  </td> <td>6.9     </td> <td>5.3    </td> <td>2   </td> <td>4.3   </td> <td>5.5     </td> <td>13       </td> <td>1.6  </td> <td>9.8     </td> <td>2.8          </td> <td>6.8     </td> <td>2.6      </td> <td>9.9        </td> <td>6.5     </td> <td>2.8    </td> <td>2.2     </td> <td>7.8   </td> <td>1.7          </td> <td>4.8       </td> <td>9.2       </td> <td>4.5     </td> <td>7.2           </td> <td>nan         </td> <td>5   </td> <td>6.3     </td> <td>3.1   </td> <td>5.8         </td> <td>2.7         </td> <td>7.8           </td> <td>3.2         </td> <td>7.1      </td> <td>6.2  </td> <td>5.9          </td> <td>1.9 </td> <td>nan    </td> <td>5.4     </td> <td>3.5       </td> <td>4.5          </td> <td>2.8      </td> <td>nan    </td>\n",
       "        </tr>\n",
       "    </tbody>\n",
       "        <tr>\n",
       "            <td>2005</td> <td>9.7    </td> <td>5.2   </td> <td>9      </td> <td>8       </td> <td>6.9       </td> <td>3.8     </td> <td>3.2        </td> <td>6.6     </td> <td>28.3                </td> <td>5.9    </td> <td>7.1    </td> <td>1.9   </td> <td>3.2  </td> <td>6.8     </td> <td>5.9    </td> <td>1.6 </td> <td>3.9   </td> <td>5.4     </td> <td>12.8     </td> <td>1.7  </td> <td>10.4    </td> <td>2.8          </td> <td>6.9     </td> <td>2.7      </td> <td>9          </td> <td>7.3     </td> <td>3.4    </td> <td>2.6     </td> <td>7.8   </td> <td>nan          </td> <td>5.1       </td> <td>7.9       </td> <td>4.7     </td> <td>7.6           </td> <td>nan         </td> <td>5.6 </td> <td>6.1     </td> <td>2.9   </td> <td>6.3         </td> <td>3.1         </td> <td>7.9           </td> <td>2.9         </td> <td>8.3      </td> <td>6.5  </td> <td>6.1          </td> <td>2.4 </td> <td>nan    </td> <td>6.4     </td> <td>3.6       </td> <td>5.4          </td> <td>4.3      </td> <td>nan    </td>\n",
       "        </tr>\n",
       "    </tbody>\n",
       "        <tr>\n",
       "            <td>2006</td> <td>9.7    </td> <td>6.2   </td> <td>9.1    </td> <td>8.5     </td> <td>7         </td> <td>3.7     </td> <td>3.9        </td> <td>6.1     </td> <td>23.2                </td> <td>6.9    </td> <td>7.3    </td> <td>2.1   </td> <td>2.6  </td> <td>6.8     </td> <td>6      </td> <td>2.5 </td> <td>4.2   </td> <td>4.7     </td> <td>12.7     </td> <td>1.5  </td> <td>10.2    </td> <td>2.9          </td> <td>7.4     </td> <td>2.5      </td> <td>11.1       </td> <td>7.2     </td> <td>3.8    </td> <td>3.1     </td> <td>8.7   </td> <td>1.6          </td> <td>5.4       </td> <td>7         </td> <td>5       </td> <td>7             </td> <td>nan         </td> <td>6   </td> <td>6.4     </td> <td>3.1   </td> <td>6.4         </td> <td>3.6         </td> <td>9             </td> <td>2.9         </td> <td>8        </td> <td>6.2  </td> <td>6.2          </td> <td>2.1 </td> <td>nan    </td> <td>5.3     </td> <td>3.5       </td> <td>5.5          </td> <td>3.5      </td> <td>nan    </td>\n",
       "        </tr>\n",
       "    </tbody>\n",
       "        <tr>\n",
       "            <td>2007</td> <td>10.5   </td> <td>7.2   </td> <td>8.5    </td> <td>8.8     </td> <td>6.3       </td> <td>3.5     </td> <td>3.1        </td> <td>5.7     </td> <td>23.8                </td> <td>7.5    </td> <td>8.1    </td> <td>1.8   </td> <td>3.2  </td> <td>6.8     </td> <td>5.9    </td> <td>1.8 </td> <td>4.2   </td> <td>5       </td> <td>14.4     </td> <td>2    </td> <td>10.3    </td> <td>3            </td> <td>7.3     </td> <td>2.3      </td> <td>9.9        </td> <td>6.6     </td> <td>2.5    </td> <td>4.1     </td> <td>7.2   </td> <td>nan          </td> <td>4.8       </td> <td>8.2       </td> <td>4.4     </td> <td>7.4           </td> <td>nan         </td> <td>5.7 </td> <td>6.9     </td> <td>2.2   </td> <td>6.3         </td> <td>2.2         </td> <td>8.6           </td> <td>nan         </td> <td>7.8      </td> <td>6.2  </td> <td>6.1          </td> <td>2.4 </td> <td>nan    </td> <td>5.3     </td> <td>3.1       </td> <td>4.9          </td> <td>3.6      </td> <td>nan    </td>\n",
       "        </tr>\n",
       "    </tbody>\n",
       "        <tr>\n",
       "            <td>2008</td> <td>9.8    </td> <td>4.4   </td> <td>7.6    </td> <td>7.7     </td> <td>6.1       </td> <td>3.9     </td> <td>3.8        </td> <td>7.6     </td> <td>25.6                </td> <td>7.4    </td> <td>7.4    </td> <td>2.1   </td> <td>1.6  </td> <td>6.8     </td> <td>5.2    </td> <td>2.8 </td> <td>4     </td> <td>5.7     </td> <td>12.2     </td> <td>2.7  </td> <td>9.3     </td> <td>2.6          </td> <td>6.6     </td> <td>2.5      </td> <td>11.3       </td> <td>8.4     </td> <td>4.2    </td> <td>4.3     </td> <td>6     </td> <td>1.6          </td> <td>4.5       </td> <td>7.8       </td> <td>4.6     </td> <td>7.2           </td> <td>nan         </td> <td>5.4 </td> <td>6.5     </td> <td>2.8   </td> <td>5.8         </td> <td>2.7         </td> <td>7.9           </td> <td>2.5         </td> <td>7.8      </td> <td>6    </td> <td>5.9          </td> <td>1.8 </td> <td>nan    </td> <td>4.8     </td> <td>3.4       </td> <td>4            </td> <td>2.8      </td> <td>nan    </td>\n",
       "        </tr>\n",
       "    </tbody>\n",
       "</table>\n",
       "<p>... (7 rows omitted)</p>"
      ],
      "text/plain": [
       "Year | Alabama | Alaska | Arizona | Arkansas | California | Colorado | Connecticut | Delaware | District of Columbia | Florida | Georgia | Hawaii | Idaho | Illinois | Indiana | Iowa | Kansas | Kentucky | Louisiana | Maine | Maryland | Massachusetts | Michigan | Minnesota | Mississippi | Missouri | Montana | Nebraska | Nevada | New Hampshire | New Jersey | New Mexico | New York | North Carolina | North Dakota | Ohio | Oklahoma | Oregon | Pennsylvania | Rhode Island | South Carolina | South Dakota | Tennessee | Texas | United States | Utah | Vermont | Virginia | Washington | West Virginia | Wisconsin | Wyoming\n",
       "1999 | 9.9     | 8.1    | 9.2     | 6.8      | 6          | 4.5      | 3.7         | 3        | 29.6                 | 6.3     | 7.5     | 3.1    | 2.4   | 8.1      | 6.3     | 1.8  | 5.1    | 5.1      | 10.7      | 2     | 10.2     | 2.1           | 7.7      | 2.8       | 10.9        | 7        | 3.8     | 3.5      | 8.7    | 1.8           | 3.6        | 9.2        | 5.1      | 8              | nan          | 4    | 6.7      | 3.1    | 5.4          | 3.5          | 7.8            | 3.2          | 7.4       | 6.3   | 6             | 2.3  | nan     | 5.9      | 3.2        | 5.5           | 3.8       | nan\n",
       "2000 | 10      | 5.6    | 7.9     | 7.6      | 5.9        | 3.4      | 2.9         | 2.9      | 28.9                 | 6.1     | 7.8     | 2.9    | 1.9   | 7.9      | 6       | 2    | 5.3    | 5        | 13.2      | nan   | 9.7      | 1.9           | 7.3      | 2.8       | 10.9        | 7.2      | 4       | 3.7      | 6.7    | nan           | 3.9        | 8.8        | 5.2      | 8              | nan          | 4.1  | 5.9      | 2.7    | 5.5          | 3.8          | 8              | nan          | 8.2       | 6.2   | 5.9           | 2.3  | nan     | 6.1      | 3.4        | 4.4           | 3.2       | nan\n",
       "2001 | 9.6     | 5.7    | 9.3     | 6.9      | 6.2        | 3.7      | 5.1         | 4.1      | 30.9                 | 6.1     | 7.8     | 2.8    | 3.1   | 8.6      | 7.1     | 2.1  | 5.3    | 5.4      | 12        | 1.7   | 10.4     | 3.8           | 6.9      | 2.5       | 11.5        | 7.8      | 3.6     | 2.6      | 8.4    | 2.2           | 12.2       | 7.1        | 14.6     | 7.2            | nan          | 4.7  | 6.1      | 2.9    | 5.7          | 3.5          | 8.6            | nan          | 7.8       | 6.4   | 7.1           | 3.4  | nan     | 6.9      | 3.2        | 3.7           | 3.9       | nan\n",
       "2002 | 9.3     | 5.9    | 9.3     | 7.3      | 6.9        | 4        | 3           | 4.7      | 36.3                 | 6.3     | 7.6     | 3.1    | 2.4   | 8        | 6.2     | 2    | 4.8    | 4.8      | 13.3      | nan   | 10.1     | 2.9           | 7        | 2.5       | 10.7        | 6.5      | 2.5     | 3        | 8      | nan           | 4          | 8.7        | 4.8      | 7.6            | nan          | 4.9  | 5.6      | 3.1    | 5.4          | 4            | 7.9            | 3            | 8         | 6.4   | 6.1           | 2.3  | nan     | 5.4      | 3.5        | 5.5           | 3.5       | 4.6\n",
       "2003 | 9.7     | 6.9    | 8.8     | 7.3      | 6.9        | 4.1      | 3.1         | 3.1      | 30.6                 | 6.1     | 8.3     | 1.6    | 2.4   | 7.6      | 5.6     | 1.8  | 4.5    | 4.7      | 13.2      | nan   | 10.3     | 2.2           | 6.6      | 2.5       | 10.7        | 5.8      | 4.2     | 3.6      | 8      | 1.6           | 5.1        | 8.8        | 5        | 7              | nan          | 4.7  | 6.4      | 2.6    | 5.7          | 2.7          | 7.8            | nan          | 7.5       | 6.8   | 6.1           | 2.5  | nan     | 6.2      | 3.5        | 5             | 3.6       | nan\n",
       "2004 | 8.3     | 6.1    | 9       | 7.8      | 6.8        | 4.7      | 3.3         | 4.2      | 27.9                 | 6.1     | 7.4     | 2.4    | 2.2   | 6.9      | 5.3     | 2    | 4.3    | 5.5      | 13        | 1.6   | 9.8      | 2.8           | 6.8      | 2.6       | 9.9         | 6.5      | 2.8     | 2.2      | 7.8    | 1.7           | 4.8        | 9.2        | 4.5      | 7.2            | nan          | 5    | 6.3      | 3.1    | 5.8          | 2.7          | 7.8            | 3.2          | 7.1       | 6.2   | 5.9           | 1.9  | nan     | 5.4      | 3.5        | 4.5           | 2.8       | nan\n",
       "2005 | 9.7     | 5.2    | 9       | 8        | 6.9        | 3.8      | 3.2         | 6.6      | 28.3                 | 5.9     | 7.1     | 1.9    | 3.2   | 6.8      | 5.9     | 1.6  | 3.9    | 5.4      | 12.8      | 1.7   | 10.4     | 2.8           | 6.9      | 2.7       | 9           | 7.3      | 3.4     | 2.6      | 7.8    | nan           | 5.1        | 7.9        | 4.7      | 7.6            | nan          | 5.6  | 6.1      | 2.9    | 6.3          | 3.1          | 7.9            | 2.9          | 8.3       | 6.5   | 6.1           | 2.4  | nan     | 6.4      | 3.6        | 5.4           | 4.3       | nan\n",
       "2006 | 9.7     | 6.2    | 9.1     | 8.5      | 7          | 3.7      | 3.9         | 6.1      | 23.2                 | 6.9     | 7.3     | 2.1    | 2.6   | 6.8      | 6       | 2.5  | 4.2    | 4.7      | 12.7      | 1.5   | 10.2     | 2.9           | 7.4      | 2.5       | 11.1        | 7.2      | 3.8     | 3.1      | 8.7    | 1.6           | 5.4        | 7          | 5        | 7              | nan          | 6    | 6.4      | 3.1    | 6.4          | 3.6          | 9              | 2.9          | 8         | 6.2   | 6.2           | 2.1  | nan     | 5.3      | 3.5        | 5.5           | 3.5       | nan\n",
       "2007 | 10.5    | 7.2    | 8.5     | 8.8      | 6.3        | 3.5      | 3.1         | 5.7      | 23.8                 | 7.5     | 8.1     | 1.8    | 3.2   | 6.8      | 5.9     | 1.8  | 4.2    | 5        | 14.4      | 2     | 10.3     | 3             | 7.3      | 2.3       | 9.9         | 6.6      | 2.5     | 4.1      | 7.2    | nan           | 4.8        | 8.2        | 4.4      | 7.4            | nan          | 5.7  | 6.9      | 2.2    | 6.3          | 2.2          | 8.6            | nan          | 7.8       | 6.2   | 6.1           | 2.4  | nan     | 5.3      | 3.1        | 4.9           | 3.6       | nan\n",
       "2008 | 9.8     | 4.4    | 7.6     | 7.7      | 6.1        | 3.9      | 3.8         | 7.6      | 25.6                 | 7.4     | 7.4     | 2.1    | 1.6   | 6.8      | 5.2     | 2.8  | 4      | 5.7      | 12.2      | 2.7   | 9.3      | 2.6           | 6.6      | 2.5       | 11.3        | 8.4      | 4.2     | 4.3      | 6      | 1.6           | 4.5        | 7.8        | 4.6      | 7.2            | nan          | 5.4  | 6.5      | 2.8    | 5.8          | 2.7          | 7.9            | 2.5          | 7.8       | 6     | 5.9           | 1.8  | nan     | 4.8      | 3.4        | 4             | 2.8       | nan\n",
       "... (7 rows omitted)"
      ]
     },
     "execution_count": 10,
     "metadata": {},
     "output_type": "execute_result"
    }
   ],
   "source": [
    "death_by_state_year_1= pure_1.pivot(\"State\", \"Year\", values='Age-adjusted Death Rate', collect = np.mean)\n",
    "death_by_state_year_1"
   ]
  },
  {
   "cell_type": "code",
   "execution_count": 11,
   "metadata": {},
   "outputs": [
    {
     "data": {
      "text/plain": [
       "array(['District of Columbia', 'Louisiana', 'Mississippi', 'Alabama',\n",
       "       'Maryland', 'South Carolina', 'New Mexico', 'Arkansas', 'Arizona',\n",
       "       'Tennessee'], \n",
       "      dtype='<U20')"
      ]
     },
     "execution_count": 11,
     "metadata": {},
     "output_type": "execute_result"
    }
   ],
   "source": [
    "lst_1= []\n",
    "for i in range(1, 52):\n",
    "    avg_1 = np.mean(death_by_state_year_1.column(i))\n",
    "    lst_1 += [avg_1]\n",
    "lst_1\n",
    "new_table_1 = Table().with_columns(\"State name\",state_lst, \n",
    "                    \"mean death rate\", lst_1)\n",
    "new_table_1.sort(\"mean death rate\", descending = True).where(\"mean death rate\", are.not_equal_to('nan')).take[7:17]\n",
    "top_10_1 = new_table_1.sort(\"mean death rate\", descending = True).take[7:17].column(0)\n",
    "top_10_1"
   ]
  },
  {
   "cell_type": "code",
   "execution_count": 12,
   "metadata": {},
   "outputs": [
    {
     "data": {
      "text/html": [
       "<table border=\"1\" class=\"dataframe\">\n",
       "    <thead>\n",
       "        <tr>\n",
       "            <th>drug poisoning death rate</th> <th>homicide death rate</th>\n",
       "        </tr>\n",
       "    </thead>\n",
       "    <tbody>\n",
       "        <tr>\n",
       "            <td>West Virginia            </td> <td>District of Columbia</td>\n",
       "        </tr>\n",
       "    </tbody>\n",
       "        <tr>\n",
       "            <td>New Mexico               </td> <td>Louisiana           </td>\n",
       "        </tr>\n",
       "    </tbody>\n",
       "        <tr>\n",
       "            <td>Nevada                   </td> <td>Mississippi         </td>\n",
       "        </tr>\n",
       "    </tbody>\n",
       "        <tr>\n",
       "            <td>Kentucky                 </td> <td>Alabama             </td>\n",
       "        </tr>\n",
       "    </tbody>\n",
       "        <tr>\n",
       "            <td>Utah                     </td> <td>Maryland            </td>\n",
       "        </tr>\n",
       "    </tbody>\n",
       "        <tr>\n",
       "            <td>Rhode Island             </td> <td>South Carolina      </td>\n",
       "        </tr>\n",
       "    </tbody>\n",
       "        <tr>\n",
       "            <td>Pennsylvania             </td> <td>New Mexico          </td>\n",
       "        </tr>\n",
       "    </tbody>\n",
       "        <tr>\n",
       "            <td>Oklahoma                 </td> <td>Arkansas            </td>\n",
       "        </tr>\n",
       "    </tbody>\n",
       "        <tr>\n",
       "            <td>Arizona                  </td> <td>Arizona             </td>\n",
       "        </tr>\n",
       "    </tbody>\n",
       "        <tr>\n",
       "            <td>Tennessee                </td> <td>Tennessee           </td>\n",
       "        </tr>\n",
       "    </tbody>\n",
       "</table>"
      ],
      "text/plain": [
       "drug poisoning death rate | homicide death rate\n",
       "West Virginia             | District of Columbia\n",
       "New Mexico                | Louisiana\n",
       "Nevada                    | Mississippi\n",
       "Kentucky                  | Alabama\n",
       "Utah                      | Maryland\n",
       "Rhode Island              | South Carolina\n",
       "Pennsylvania              | New Mexico\n",
       "Oklahoma                  | Arkansas\n",
       "Arizona                   | Arizona\n",
       "Tennessee                 | Tennessee"
      ]
     },
     "execution_count": 12,
     "metadata": {},
     "output_type": "execute_result"
    }
   ],
   "source": [
    "compare = Table().with_columns('drug poisoning death rate',Top_10, \"homicide death rate\", top_10_1 )\n",
    "compare \n"
   ]
  },
  {
   "cell_type": "code",
   "execution_count": 13,
   "metadata": {},
   "outputs": [],
   "source": [
    "#2. Which 10 states have the highest drug poisoning mortality rate and homicide mortality rate over the years (1999-2016), \n",
    "#and how is the ranking from each dataset similar or different from each other? \n",
    "#Comparing the top 10 rankings from two datasets with each other, we can see that there is not a lot of similarities \n",
    "#or correlations between them -- only 2 out of the 10 states in our ranking are in similar positions, \n",
    "#the rest of the states appear in either the ranking for drug poisoning or the ranking for homicide death rate but not for both\n",
    "#Therefore, the differences between the two rankings outweight the similarities."
   ]
  },
  {
   "cell_type": "code",
   "execution_count": 134,
   "metadata": {},
   "outputs": [
    {
     "data": {
      "text/html": [
       "<table border=\"1\" class=\"dataframe\">\n",
       "    <thead>\n",
       "        <tr>\n",
       "            <th>Year</th> <th>Crude Death Rate mean</th>\n",
       "        </tr>\n",
       "    </thead>\n",
       "    <tbody>\n",
       "        <tr>\n",
       "            <td>1999</td> <td>5.92677              </td>\n",
       "        </tr>\n",
       "    </tbody>\n",
       "        <tr>\n",
       "            <td>2000</td> <td>6.0188               </td>\n",
       "        </tr>\n",
       "    </tbody>\n",
       "        <tr>\n",
       "            <td>2001</td> <td>6.59315              </td>\n",
       "        </tr>\n",
       "    </tbody>\n",
       "        <tr>\n",
       "            <td>2002</td> <td>7.69686              </td>\n",
       "        </tr>\n",
       "    </tbody>\n",
       "        <tr>\n",
       "            <td>2003</td> <td>8.37448              </td>\n",
       "        </tr>\n",
       "    </tbody>\n",
       "        <tr>\n",
       "            <td>2004</td> <td>8.67609              </td>\n",
       "        </tr>\n",
       "    </tbody>\n",
       "        <tr>\n",
       "            <td>2005</td> <td>9.39699              </td>\n",
       "        </tr>\n",
       "    </tbody>\n",
       "        <tr>\n",
       "            <td>2006</td> <td>10.748               </td>\n",
       "        </tr>\n",
       "    </tbody>\n",
       "        <tr>\n",
       "            <td>2007</td> <td>10.901               </td>\n",
       "        </tr>\n",
       "    </tbody>\n",
       "        <tr>\n",
       "            <td>2008</td> <td>10.8844              </td>\n",
       "        </tr>\n",
       "    </tbody>\n",
       "        <tr>\n",
       "            <td>2009</td> <td>10.8529              </td>\n",
       "        </tr>\n",
       "    </tbody>\n",
       "        <tr>\n",
       "            <td>2010</td> <td>11.1649              </td>\n",
       "        </tr>\n",
       "    </tbody>\n",
       "        <tr>\n",
       "            <td>2011</td> <td>12.0201              </td>\n",
       "        </tr>\n",
       "    </tbody>\n",
       "        <tr>\n",
       "            <td>2012</td> <td>12.0496              </td>\n",
       "        </tr>\n",
       "    </tbody>\n",
       "        <tr>\n",
       "            <td>2013</td> <td>12.8701              </td>\n",
       "        </tr>\n",
       "    </tbody>\n",
       "        <tr>\n",
       "            <td>2014</td> <td>13.7088              </td>\n",
       "        </tr>\n",
       "    </tbody>\n",
       "        <tr>\n",
       "            <td>2015</td> <td>15.2724              </td>\n",
       "        </tr>\n",
       "    </tbody>\n",
       "        <tr>\n",
       "            <td>2016</td> <td>18.7042              </td>\n",
       "        </tr>\n",
       "    </tbody>\n",
       "</table>"
      ],
      "text/plain": [
       "<IPython.core.display.HTML object>"
      ]
     },
     "metadata": {},
     "output_type": "display_data"
    }
   ],
   "source": [
    "data1 = death_rate_by_year.select(\"Year\", \"Crude Death Rate mean\")\n",
    "data1\n",
    "\n",
    "\n",
    "\n"
   ]
  },
  {
   "cell_type": "code",
   "execution_count": 15,
   "metadata": {},
   "outputs": [
    {
     "data": {
      "text/html": [
       "<table border=\"1\" class=\"dataframe\">\n",
       "    <thead>\n",
       "        <tr>\n",
       "            <th>Year</th> <th>Age-adjusted Death Rate mean</th>\n",
       "        </tr>\n",
       "    </thead>\n",
       "    <tbody>\n",
       "        <tr>\n",
       "            <td>1999</td> <td>6.07551                     </td>\n",
       "        </tr>\n",
       "    </tbody>\n",
       "        <tr>\n",
       "            <td>2000</td> <td>6.15217                     </td>\n",
       "        </tr>\n",
       "    </tbody>\n",
       "        <tr>\n",
       "            <td>2001</td> <td>6.62917                     </td>\n",
       "        </tr>\n",
       "    </tbody>\n",
       "        <tr>\n",
       "            <td>2002</td> <td>6.30625                     </td>\n",
       "        </tr>\n",
       "    </tbody>\n",
       "        <tr>\n",
       "            <td>2003</td> <td>6.14468                     </td>\n",
       "        </tr>\n",
       "    </tbody>\n",
       "        <tr>\n",
       "            <td>2004</td> <td>5.80816                     </td>\n",
       "        </tr>\n",
       "    </tbody>\n",
       "        <tr>\n",
       "            <td>2005</td> <td>6.10208                     </td>\n",
       "        </tr>\n",
       "    </tbody>\n",
       "        <tr>\n",
       "            <td>2006</td> <td>6.02653                     </td>\n",
       "        </tr>\n",
       "    </tbody>\n",
       "        <tr>\n",
       "            <td>2007</td> <td>6.11489                     </td>\n",
       "        </tr>\n",
       "    </tbody>\n",
       "        <tr>\n",
       "            <td>2008</td> <td>5.82449                     </td>\n",
       "        </tr>\n",
       "    </tbody>\n",
       "</table>\n",
       "<p>... (7 rows omitted)</p>"
      ],
      "text/plain": [
       "Year | Age-adjusted Death Rate mean\n",
       "1999 | 6.07551\n",
       "2000 | 6.15217\n",
       "2001 | 6.62917\n",
       "2002 | 6.30625\n",
       "2003 | 6.14468\n",
       "2004 | 5.80816\n",
       "2005 | 6.10208\n",
       "2006 | 6.02653\n",
       "2007 | 6.11489\n",
       "2008 | 5.82449\n",
       "... (7 rows omitted)"
      ]
     },
     "execution_count": 15,
     "metadata": {},
     "output_type": "execute_result"
    }
   ],
   "source": [
    "data2= pure_1.where(2, are.above(0)).group('Year', np.mean)\n",
    "data2.select(\"Year\", \"Age-adjusted Death Rate mean\")"
   ]
  },
  {
   "cell_type": "code",
   "execution_count": 19,
   "metadata": {},
   "outputs": [],
   "source": [
    "comparedata = data1.join(\"Year\", data2,\"Year\").drop(2)\n",
    "comparedata= comparedata.relabeled([\"Year\", \"Crude Death Rate mean\",\"Age-adjusted Death Rate mean\"],[\"Year\",\"Drug posioning death\", \"Homocide rate\"])"
   ]
  },
  {
   "cell_type": "code",
   "execution_count": 45,
   "metadata": {},
   "outputs": [
    {
     "data": {
      "image/png": "[encoded data removed]",
      "text/plain": [
       "<matplotlib.figure.Figure at 0x7f4bc450f6a0>"
      ]
     },
     "metadata": {},
     "output_type": "display_data"
    }
   ],
   "source": [
    "plt.plot(comparedata.column(0),comparedata.column(1))\n",
    "plt.ylabel('Drug posioning death rate')\n",
    "plt.xlabel('Year')\n",
    "plt.title('Drug poisoning death rate over the years')\n",
    "plt.show()"
   ]
  },
  {
   "cell_type": "code",
   "execution_count": 47,
   "metadata": {},
   "outputs": [
    {
     "data": {
      "image/png": "[encoded data removed]",
      "text/plain": [
       "<matplotlib.figure.Figure at 0x7f4bc44d0438>"
      ]
     },
     "metadata": {},
     "output_type": "display_data"
    }
   ],
   "source": [
    "plt.plot(comparedata.column(0),comparedata.column(2))\n",
    "plt.ylabel('homicide death rate')\n",
    "plt.xlabel('Year')\n",
    "plt.title('homicide death rate over the years')\n",
    "plt.show()"
   ]
  },
  {
   "cell_type": "code",
   "execution_count": 157,
   "metadata": {},
   "outputs": [
    {
     "data": {
      "text/plain": [
       "['District of Columbia',\n",
       " 'Oklahoma',\n",
       " 'West Virginia',\n",
       " 'California',\n",
       " 'Kansas',\n",
       " 'Delaware',\n",
       " 'New Mexico',\n",
       " 'Nevada',\n",
       " 'New Jersey',\n",
       " 'South Dakota']"
      ]
     },
     "execution_count": 157,
     "metadata": {},
     "output_type": "execute_result"
    }
   ],
   "source": [
    "rd.seed(1)\n",
    "random_lst = rd.sample(state_lst,10)\n",
    "random_lst"
   ]
  },
  {
   "cell_type": "code",
   "execution_count": 183,
   "metadata": {},
   "outputs": [],
   "source": [
    "c= Table().with_columns(pure.where(0, 'District of Columbia').select(1,2))\n",
    "d= Table().with_columns(pure.where(0, 'Oklahoma').select(1,2))\n",
    "e= Table().with_columns(pure.where(0, 'West Virginia').select(1,2))\n",
    "f= Table().with_columns(pure.where(0, 'California').select(1,2))\n",
    "g= Table().with_columns(pure.where(0, 'Kansas').select(1,2))\n",
    "h= Table().with_columns(pure.where(0, 'Delaware').select(1,2))\n",
    "i= Table().with_columns(pure.where(0, 'New Mexico').select(1,2))\n",
    "j= Table().with_columns(pure.where(0, 'Nevada').select(1,2))\n",
    "k= Table().with_columns(pure.where(0, 'New Jersey').select(1,2))\n",
    "l=Table().with_columns(pure.where(0, 'South Dakota').select(1,2))\n"
   ]
  },
  {
   "cell_type": "code",
   "execution_count": 159,
   "metadata": {},
   "outputs": [],
   "source": [
    "ten_state = c.join(\"Year\", d,\"Year\").join(\"Year\", e,\"Year\").join(\"Year\", f,\"Year\").join(\"Year\", g,\"Year\").join(\"Year\", h,\"Year\").join(\"Year\", i,\"Year\").join(\"Year\", j,\"Year\").join(\"Year\", k,\"Year\").join(\"Year\", l,\"Year\")\n"
   ]
  },
  {
   "cell_type": "code",
   "execution_count": 177,
   "metadata": {},
   "outputs": [
    {
     "data": {
      "text/plain": [
       "[7.083029999999999,\n",
       " 8.1834100000000003,\n",
       " 9.0078500000000012,\n",
       " 9.8149699999999989,\n",
       " 11.492059999999999,\n",
       " 11.682230000000001,\n",
       " 11.500360000000001,\n",
       " 13.53274,\n",
       " 13.68683,\n",
       " 14.248309999999998,\n",
       " 12.497999999999999,\n",
       " 15.618930000000001,\n",
       " 17.242079999999998,\n",
       " 16.371209999999998,\n",
       " 17.303720000000002,\n",
       " 17.86026,\n",
       " 18.98208,\n",
       " 23.833620000000003]"
      ]
     },
     "execution_count": 177,
     "metadata": {},
     "output_type": "execute_result"
    }
   ],
   "source": [
    "for_mean = ten_state.drop(0)\n",
    "lst2= []\n",
    "for i in range(len(ten_state.column(0))):\n",
    "    each_mean = np.mean(list(for_mean.row(i)))\n",
    "    lst2 += [each_mean]\n",
    "lst2"
   ]
  },
  {
   "cell_type": "code",
   "execution_count": 238,
   "metadata": {},
   "outputs": [],
   "source": [
    "random_10_1 = Table().with_column(\"Year\", ten_state.column(0), \"Drug posioning death rate average\", lst2)"
   ]
  },
  {
   "cell_type": "code",
   "execution_count": null,
   "metadata": {},
   "outputs": [],
   "source": []
  },
  {
   "cell_type": "code",
   "execution_count": 199,
   "metadata": {},
   "outputs": [
    {
     "data": {
      "text/html": [
       "<table border=\"1\" class=\"dataframe\">\n",
       "    <thead>\n",
       "        <tr>\n",
       "            <th>Year</th> <th>Age-adjusted Death Rate</th>\n",
       "        </tr>\n",
       "    </thead>\n",
       "    <tbody>\n",
       "        <tr>\n",
       "            <td>1999</td> <td>6.7                    </td>\n",
       "        </tr>\n",
       "    </tbody>\n",
       "        <tr>\n",
       "            <td>2000</td> <td>5.9                    </td>\n",
       "        </tr>\n",
       "    </tbody>\n",
       "        <tr>\n",
       "            <td>2001</td> <td>6.1                    </td>\n",
       "        </tr>\n",
       "    </tbody>\n",
       "        <tr>\n",
       "            <td>2002</td> <td>5.6                    </td>\n",
       "        </tr>\n",
       "    </tbody>\n",
       "        <tr>\n",
       "            <td>2003</td> <td>6.4                    </td>\n",
       "        </tr>\n",
       "    </tbody>\n",
       "        <tr>\n",
       "            <td>2004</td> <td>6.3                    </td>\n",
       "        </tr>\n",
       "    </tbody>\n",
       "        <tr>\n",
       "            <td>2005</td> <td>6.1                    </td>\n",
       "        </tr>\n",
       "    </tbody>\n",
       "        <tr>\n",
       "            <td>2006</td> <td>6.4                    </td>\n",
       "        </tr>\n",
       "    </tbody>\n",
       "        <tr>\n",
       "            <td>2007</td> <td>6.9                    </td>\n",
       "        </tr>\n",
       "    </tbody>\n",
       "        <tr>\n",
       "            <td>2008</td> <td>6.5                    </td>\n",
       "        </tr>\n",
       "    </tbody>\n",
       "</table>\n",
       "<p>... (7 rows omitted)</p>"
      ],
      "text/plain": [
       "Year | Age-adjusted Death Rate\n",
       "1999 | 6.7\n",
       "2000 | 5.9\n",
       "2001 | 6.1\n",
       "2002 | 5.6\n",
       "2003 | 6.4\n",
       "2004 | 6.3\n",
       "2005 | 6.1\n",
       "2006 | 6.4\n",
       "2007 | 6.9\n",
       "2008 | 6.5\n",
       "... (7 rows omitted)"
      ]
     },
     "execution_count": 199,
     "metadata": {},
     "output_type": "execute_result"
    }
   ],
   "source": [
    "c2= Table().with_columns(pure_1.where(1, 'District of Columbia').select(0,2))\n",
    "d2= Table().with_columns(pure_1.where(1, 'Oklahoma').select(0,2))\n",
    "e2= Table().with_columns(pure_1.where(1, 'West Virginia').select(0,2))\n",
    "f2= Table().with_columns(pure_1.where(1, 'California').select(0,2))\n",
    "g2= Table().with_columns(pure_1.where(1, 'Kansas').select(0,2))\n",
    "h2= Table().with_columns(pure_1.where(1, 'Delaware').select(0,2))\n",
    "i2= Table().with_columns(pure_1.where(1, 'New Mexico').select(0,2))\n",
    "j2= Table().with_columns(pure_1.where(1, 'Nevada').select(0,2))\n",
    "k2= Table().with_columns(pure_1.where(1, 'New Jersey').select(0,2))\n",
    "l2=Table().with_columns(pure_1.where(1, 'South Dakota').select(0,2))\n"
   ]
  },
  {
   "cell_type": "code",
   "execution_count": 200,
   "metadata": {},
   "outputs": [
    {
     "data": {
      "text/html": [
       "<table border=\"1\" class=\"dataframe\">\n",
       "    <thead>\n",
       "        <tr>\n",
       "            <th>Year</th> <th>Age-adjusted Death Rate</th> <th>Age-adjusted Death Rate_2</th> <th>Age-adjusted Death Rate_3</th> <th>Age-adjusted Death Rate_4</th> <th>Age-adjusted Death Rate_5</th> <th>Age-adjusted Death Rate_6</th> <th>Age-adjusted Death Rate_7</th> <th>Age-adjusted Death Rate_8</th> <th>Age-adjusted Death Rate_9</th> <th>Age-adjusted Death Rate_10</th>\n",
       "        </tr>\n",
       "    </thead>\n",
       "    <tbody>\n",
       "        <tr>\n",
       "            <td>1999</td> <td>29.6                   </td> <td>6.7                      </td> <td>5.5                      </td> <td>6                        </td> <td>5.1                      </td> <td>3                        </td> <td>9.2                      </td> <td>8.7                      </td> <td>3.6                      </td> <td>3.2                       </td>\n",
       "        </tr>\n",
       "    </tbody>\n",
       "        <tr>\n",
       "            <td>2000</td> <td>28.9                   </td> <td>5.9                      </td> <td>4.4                      </td> <td>5.9                      </td> <td>5.3                      </td> <td>2.9                      </td> <td>8.8                      </td> <td>6.7                      </td> <td>3.9                      </td> <td>nan                       </td>\n",
       "        </tr>\n",
       "    </tbody>\n",
       "        <tr>\n",
       "            <td>2001</td> <td>30.9                   </td> <td>6.1                      </td> <td>3.7                      </td> <td>6.2                      </td> <td>5.3                      </td> <td>4.1                      </td> <td>7.1                      </td> <td>8.4                      </td> <td>12.2                     </td> <td>nan                       </td>\n",
       "        </tr>\n",
       "    </tbody>\n",
       "        <tr>\n",
       "            <td>2002</td> <td>36.3                   </td> <td>5.6                      </td> <td>5.5                      </td> <td>6.9                      </td> <td>4.8                      </td> <td>4.7                      </td> <td>8.7                      </td> <td>8                        </td> <td>4                        </td> <td>3                         </td>\n",
       "        </tr>\n",
       "    </tbody>\n",
       "        <tr>\n",
       "            <td>2003</td> <td>30.6                   </td> <td>6.4                      </td> <td>5                        </td> <td>6.9                      </td> <td>4.5                      </td> <td>3.1                      </td> <td>8.8                      </td> <td>8                        </td> <td>5.1                      </td> <td>nan                       </td>\n",
       "        </tr>\n",
       "    </tbody>\n",
       "        <tr>\n",
       "            <td>2004</td> <td>27.9                   </td> <td>6.3                      </td> <td>4.5                      </td> <td>6.8                      </td> <td>4.3                      </td> <td>4.2                      </td> <td>9.2                      </td> <td>7.8                      </td> <td>4.8                      </td> <td>3.2                       </td>\n",
       "        </tr>\n",
       "    </tbody>\n",
       "        <tr>\n",
       "            <td>2005</td> <td>28.3                   </td> <td>6.1                      </td> <td>5.4                      </td> <td>6.9                      </td> <td>3.9                      </td> <td>6.6                      </td> <td>7.9                      </td> <td>7.8                      </td> <td>5.1                      </td> <td>2.9                       </td>\n",
       "        </tr>\n",
       "    </tbody>\n",
       "        <tr>\n",
       "            <td>2006</td> <td>23.2                   </td> <td>6.4                      </td> <td>5.5                      </td> <td>7                        </td> <td>4.2                      </td> <td>6.1                      </td> <td>7                        </td> <td>8.7                      </td> <td>5.4                      </td> <td>2.9                       </td>\n",
       "        </tr>\n",
       "    </tbody>\n",
       "        <tr>\n",
       "            <td>2007</td> <td>23.8                   </td> <td>6.9                      </td> <td>4.9                      </td> <td>6.3                      </td> <td>4.2                      </td> <td>5.7                      </td> <td>8.2                      </td> <td>7.2                      </td> <td>4.8                      </td> <td>nan                       </td>\n",
       "        </tr>\n",
       "    </tbody>\n",
       "        <tr>\n",
       "            <td>2008</td> <td>25.6                   </td> <td>6.5                      </td> <td>4                        </td> <td>6.1                      </td> <td>4                        </td> <td>7.6                      </td> <td>7.8                      </td> <td>6                        </td> <td>4.5                      </td> <td>2.5                       </td>\n",
       "        </tr>\n",
       "    </tbody>\n",
       "        <tr>\n",
       "            <td>2009</td> <td>19.8                   </td> <td>6.8                      </td> <td>5.1                      </td> <td>5.6                      </td> <td>4.6                      </td> <td>5.2                      </td> <td>8.8                      </td> <td>5.8                      </td> <td>3.9                      </td> <td>4                         </td>\n",
       "        </tr>\n",
       "    </tbody>\n",
       "        <tr>\n",
       "            <td>2010</td> <td>17.2                   </td> <td>5.8                      </td> <td>5                        </td> <td>5.1                      </td> <td>3.8                      </td> <td>7                        </td> <td>7.6                      </td> <td>6.1                      </td> <td>4.6                      </td> <td>nan                       </td>\n",
       "        </tr>\n",
       "    </tbody>\n",
       "        <tr>\n",
       "            <td>2011</td> <td>15.5                   </td> <td>7                        </td> <td>5.7                      </td> <td>5                        </td> <td>4.4                      </td> <td>5.4                      </td> <td>7.5                      </td> <td>4.8                      </td> <td>4.9                      </td> <td>3.1                       </td>\n",
       "        </tr>\n",
       "    </tbody>\n",
       "        <tr>\n",
       "            <td>2012</td> <td>11.2                   </td> <td>7.3                      </td> <td>5.9                      </td> <td>5.2                      </td> <td>3.8                      </td> <td>6.9                      </td> <td>6.6                      </td> <td>4.5                      </td> <td>4.8                      </td> <td>2.4                       </td>\n",
       "        </tr>\n",
       "    </tbody>\n",
       "        <tr>\n",
       "            <td>2013</td> <td>12.1                   </td> <td>7                        </td> <td>4.2                      </td> <td>4.9                      </td> <td>4.2                      </td> <td>5.8                      </td> <td>6.7                      </td> <td>5.4                      </td> <td>4.9                      </td> <td>2.5                       </td>\n",
       "        </tr>\n",
       "    </tbody>\n",
       "        <tr>\n",
       "            <td>2014</td> <td>13.7                   </td> <td>6.6                      </td> <td>5.9                      </td> <td>4.6                      </td> <td>3.6                      </td> <td>6.6                      </td> <td>6.8                      </td> <td>6.3                      </td> <td>4.4                      </td> <td>3.1                       </td>\n",
       "        </tr>\n",
       "    </tbody>\n",
       "        <tr>\n",
       "            <td>2015</td> <td>17.5                   </td> <td>8.5                      </td> <td>4.5                      </td> <td>5                        </td> <td>4.7                      </td> <td>7.5                      </td> <td>8                        </td> <td>6.7                      </td> <td>4.5                      </td> <td>4.2                       </td>\n",
       "        </tr>\n",
       "    </tbody>\n",
       "</table>"
      ],
      "text/plain": [
       "<IPython.core.display.HTML object>"
      ]
     },
     "metadata": {},
     "output_type": "display_data"
    }
   ],
   "source": [
    "ten_state2 = c2.join(\"Year\", d2,\"Year\").join(\"Year\", e2,\"Year\").join(\"Year\", f2,\"Year\").join(\"Year\", g2,\"Year\").join(\"Year\", h2,\"Year\").join(\"Year\", i2,\"Year\").join(\"Year\", j2,\"Year\").join(\"Year\", k2,\"Year\").join(\"Year\", l2,\"Year\")\n",
    "ten_state2.show()\n"
   ]
  },
  {
   "cell_type": "code",
   "execution_count": 211,
   "metadata": {},
   "outputs": [
    {
     "data": {
      "text/plain": [
       "[3.2000000000000002,\n",
       " 0,\n",
       " 0,\n",
       " 3.0,\n",
       " 0,\n",
       " 3.2000000000000002,\n",
       " 2.8999999999999999,\n",
       " 2.8999999999999999,\n",
       " 0,\n",
       " 2.5,\n",
       " 4.0,\n",
       " 0,\n",
       " 3.1000000000000001,\n",
       " 2.3999999999999999,\n",
       " 2.5,\n",
       " 3.1000000000000001,\n",
       " 4.2000000000000002]"
      ]
     },
     "execution_count": 211,
     "metadata": {},
     "output_type": "execute_result"
    }
   ],
   "source": [
    "nan_lst = list(ten_state2.column(10))\n",
    "modified_lst = [i if i>0 else 0 for i in nan_lst]"
   ]
  },
  {
   "cell_type": "code",
   "execution_count": 213,
   "metadata": {},
   "outputs": [
    {
     "data": {
      "text/html": [
       "<table border=\"1\" class=\"dataframe\">\n",
       "    <thead>\n",
       "        <tr>\n",
       "            <th>Year</th> <th>Age-adjusted Death Rate</th> <th>Age-adjusted Death Rate_2</th> <th>Age-adjusted Death Rate_3</th> <th>Age-adjusted Death Rate_4</th> <th>Age-adjusted Death Rate_5</th> <th>Age-adjusted Death Rate_6</th> <th>Age-adjusted Death Rate_7</th> <th>Age-adjusted Death Rate_8</th> <th>Age-adjusted Death Rate_9</th> <th>Age-adjusted Death Rate_10</th>\n",
       "        </tr>\n",
       "    </thead>\n",
       "    <tbody>\n",
       "        <tr>\n",
       "            <td>1999</td> <td>29.6                   </td> <td>6.7                      </td> <td>5.5                      </td> <td>6                        </td> <td>5.1                      </td> <td>3                        </td> <td>9.2                      </td> <td>8.7                      </td> <td>3.6                      </td> <td>3.2                       </td>\n",
       "        </tr>\n",
       "    </tbody>\n",
       "        <tr>\n",
       "            <td>2000</td> <td>28.9                   </td> <td>5.9                      </td> <td>4.4                      </td> <td>5.9                      </td> <td>5.3                      </td> <td>2.9                      </td> <td>8.8                      </td> <td>6.7                      </td> <td>3.9                      </td> <td>0                         </td>\n",
       "        </tr>\n",
       "    </tbody>\n",
       "        <tr>\n",
       "            <td>2001</td> <td>30.9                   </td> <td>6.1                      </td> <td>3.7                      </td> <td>6.2                      </td> <td>5.3                      </td> <td>4.1                      </td> <td>7.1                      </td> <td>8.4                      </td> <td>12.2                     </td> <td>0                         </td>\n",
       "        </tr>\n",
       "    </tbody>\n",
       "        <tr>\n",
       "            <td>2002</td> <td>36.3                   </td> <td>5.6                      </td> <td>5.5                      </td> <td>6.9                      </td> <td>4.8                      </td> <td>4.7                      </td> <td>8.7                      </td> <td>8                        </td> <td>4                        </td> <td>3                         </td>\n",
       "        </tr>\n",
       "    </tbody>\n",
       "        <tr>\n",
       "            <td>2003</td> <td>30.6                   </td> <td>6.4                      </td> <td>5                        </td> <td>6.9                      </td> <td>4.5                      </td> <td>3.1                      </td> <td>8.8                      </td> <td>8                        </td> <td>5.1                      </td> <td>0                         </td>\n",
       "        </tr>\n",
       "    </tbody>\n",
       "        <tr>\n",
       "            <td>2004</td> <td>27.9                   </td> <td>6.3                      </td> <td>4.5                      </td> <td>6.8                      </td> <td>4.3                      </td> <td>4.2                      </td> <td>9.2                      </td> <td>7.8                      </td> <td>4.8                      </td> <td>3.2                       </td>\n",
       "        </tr>\n",
       "    </tbody>\n",
       "        <tr>\n",
       "            <td>2005</td> <td>28.3                   </td> <td>6.1                      </td> <td>5.4                      </td> <td>6.9                      </td> <td>3.9                      </td> <td>6.6                      </td> <td>7.9                      </td> <td>7.8                      </td> <td>5.1                      </td> <td>2.9                       </td>\n",
       "        </tr>\n",
       "    </tbody>\n",
       "        <tr>\n",
       "            <td>2006</td> <td>23.2                   </td> <td>6.4                      </td> <td>5.5                      </td> <td>7                        </td> <td>4.2                      </td> <td>6.1                      </td> <td>7                        </td> <td>8.7                      </td> <td>5.4                      </td> <td>2.9                       </td>\n",
       "        </tr>\n",
       "    </tbody>\n",
       "        <tr>\n",
       "            <td>2007</td> <td>23.8                   </td> <td>6.9                      </td> <td>4.9                      </td> <td>6.3                      </td> <td>4.2                      </td> <td>5.7                      </td> <td>8.2                      </td> <td>7.2                      </td> <td>4.8                      </td> <td>0                         </td>\n",
       "        </tr>\n",
       "    </tbody>\n",
       "        <tr>\n",
       "            <td>2008</td> <td>25.6                   </td> <td>6.5                      </td> <td>4                        </td> <td>6.1                      </td> <td>4                        </td> <td>7.6                      </td> <td>7.8                      </td> <td>6                        </td> <td>4.5                      </td> <td>2.5                       </td>\n",
       "        </tr>\n",
       "    </tbody>\n",
       "</table>\n",
       "<p>... (7 rows omitted)</p>"
      ],
      "text/plain": [
       "Year | Age-adjusted Death Rate | Age-adjusted Death Rate_2 | Age-adjusted Death Rate_3 | Age-adjusted Death Rate_4 | Age-adjusted Death Rate_5 | Age-adjusted Death Rate_6 | Age-adjusted Death Rate_7 | Age-adjusted Death Rate_8 | Age-adjusted Death Rate_9 | Age-adjusted Death Rate_10\n",
       "1999 | 29.6                    | 6.7                       | 5.5                       | 6                         | 5.1                       | 3                         | 9.2                       | 8.7                       | 3.6                       | 3.2\n",
       "2000 | 28.9                    | 5.9                       | 4.4                       | 5.9                       | 5.3                       | 2.9                       | 8.8                       | 6.7                       | 3.9                       | 0\n",
       "2001 | 30.9                    | 6.1                       | 3.7                       | 6.2                       | 5.3                       | 4.1                       | 7.1                       | 8.4                       | 12.2                      | 0\n",
       "2002 | 36.3                    | 5.6                       | 5.5                       | 6.9                       | 4.8                       | 4.7                       | 8.7                       | 8                         | 4                         | 3\n",
       "2003 | 30.6                    | 6.4                       | 5                         | 6.9                       | 4.5                       | 3.1                       | 8.8                       | 8                         | 5.1                       | 0\n",
       "2004 | 27.9                    | 6.3                       | 4.5                       | 6.8                       | 4.3                       | 4.2                       | 9.2                       | 7.8                       | 4.8                       | 3.2\n",
       "2005 | 28.3                    | 6.1                       | 5.4                       | 6.9                       | 3.9                       | 6.6                       | 7.9                       | 7.8                       | 5.1                       | 2.9\n",
       "2006 | 23.2                    | 6.4                       | 5.5                       | 7                         | 4.2                       | 6.1                       | 7                         | 8.7                       | 5.4                       | 2.9\n",
       "2007 | 23.8                    | 6.9                       | 4.9                       | 6.3                       | 4.2                       | 5.7                       | 8.2                       | 7.2                       | 4.8                       | 0\n",
       "2008 | 25.6                    | 6.5                       | 4                         | 6.1                       | 4                         | 7.6                       | 7.8                       | 6                         | 4.5                       | 2.5\n",
       "... (7 rows omitted)"
      ]
     },
     "execution_count": 213,
     "metadata": {},
     "output_type": "execute_result"
    }
   ],
   "source": [
    "modified_table = ten_state2.drop(10).with_columns('Age-adjusted Death Rate_10', modified_lst)\n",
    "modified_table "
   ]
  },
  {
   "cell_type": "code",
   "execution_count": 214,
   "metadata": {},
   "outputs": [
    {
     "data": {
      "text/plain": [
       "[8.0600000000000005,\n",
       " 7.2700000000000005,\n",
       " 8.4000000000000004,\n",
       " 8.75,\n",
       " 7.839999999999999,\n",
       " 7.9000000000000004,\n",
       " 8.0899999999999999,\n",
       " 7.6400000000000006,\n",
       " 7.2000000000000002,\n",
       " 7.4599999999999991,\n",
       " 6.9600000000000009,\n",
       " 6.2200000000000006,\n",
       " 6.3300000000000001,\n",
       " 5.8599999999999994,\n",
       " 5.7700000000000005,\n",
       " 6.1599999999999993,\n",
       " 7.1100000000000012]"
      ]
     },
     "execution_count": 214,
     "metadata": {},
     "output_type": "execute_result"
    }
   ],
   "source": [
    "for_mean2 = modified_table.drop(0)\n",
    "lst3= []\n",
    "for i in range(len(modified_table.column(0))):\n",
    "    each_mean = np.mean(list(for_mean2.row(i)))\n",
    "    lst3 += [each_mean]\n",
    "lst3"
   ]
  },
  {
   "cell_type": "code",
   "execution_count": 220,
   "metadata": {},
   "outputs": [],
   "source": [
    "random_10_2= Table().with_column(\"Year\", modified_table.column(0), \"Homocide death rate average\", lst3)"
   ]
  },
  {
   "cell_type": "code",
   "execution_count": 239,
   "metadata": {},
   "outputs": [
    {
     "data": {
      "text/html": [
       "<table border=\"1\" class=\"dataframe\">\n",
       "    <thead>\n",
       "        <tr>\n",
       "            <th>Year</th> <th>Drug posioning death rate average</th>\n",
       "        </tr>\n",
       "    </thead>\n",
       "    <tbody>\n",
       "        <tr>\n",
       "            <td>1999</td> <td>7.08303                          </td>\n",
       "        </tr>\n",
       "    </tbody>\n",
       "        <tr>\n",
       "            <td>2000</td> <td>8.18341                          </td>\n",
       "        </tr>\n",
       "    </tbody>\n",
       "        <tr>\n",
       "            <td>2001</td> <td>9.00785                          </td>\n",
       "        </tr>\n",
       "    </tbody>\n",
       "        <tr>\n",
       "            <td>2002</td> <td>9.81497                          </td>\n",
       "        </tr>\n",
       "    </tbody>\n",
       "        <tr>\n",
       "            <td>2003</td> <td>11.4921                          </td>\n",
       "        </tr>\n",
       "    </tbody>\n",
       "        <tr>\n",
       "            <td>2004</td> <td>11.6822                          </td>\n",
       "        </tr>\n",
       "    </tbody>\n",
       "        <tr>\n",
       "            <td>2005</td> <td>11.5004                          </td>\n",
       "        </tr>\n",
       "    </tbody>\n",
       "        <tr>\n",
       "            <td>2006</td> <td>13.5327                          </td>\n",
       "        </tr>\n",
       "    </tbody>\n",
       "        <tr>\n",
       "            <td>2007</td> <td>13.6868                          </td>\n",
       "        </tr>\n",
       "    </tbody>\n",
       "        <tr>\n",
       "            <td>2008</td> <td>14.2483                          </td>\n",
       "        </tr>\n",
       "    </tbody>\n",
       "</table>\n",
       "<p>... (7 rows omitted)</p>"
      ],
      "text/plain": [
       "Year | Drug posioning death rate average\n",
       "1999 | 7.08303\n",
       "2000 | 8.18341\n",
       "2001 | 9.00785\n",
       "2002 | 9.81497\n",
       "2003 | 11.4921\n",
       "2004 | 11.6822\n",
       "2005 | 11.5004\n",
       "2006 | 13.5327\n",
       "2007 | 13.6868\n",
       "2008 | 14.2483\n",
       "... (7 rows omitted)"
      ]
     },
     "execution_count": 239,
     "metadata": {},
     "output_type": "execute_result"
    }
   ],
   "source": [
    "random_10_1.take[0:17]"
   ]
  },
  {
   "cell_type": "code",
   "execution_count": 222,
   "metadata": {},
   "outputs": [
    {
     "data": {
      "text/html": [
       "<table border=\"1\" class=\"dataframe\">\n",
       "    <thead>\n",
       "        <tr>\n",
       "            <th>Year</th> <th>Homocide death rate average</th>\n",
       "        </tr>\n",
       "    </thead>\n",
       "    <tbody>\n",
       "        <tr>\n",
       "            <td>1999</td> <td>8.06                       </td>\n",
       "        </tr>\n",
       "    </tbody>\n",
       "        <tr>\n",
       "            <td>2000</td> <td>7.27                       </td>\n",
       "        </tr>\n",
       "    </tbody>\n",
       "        <tr>\n",
       "            <td>2001</td> <td>8.4                        </td>\n",
       "        </tr>\n",
       "    </tbody>\n",
       "        <tr>\n",
       "            <td>2002</td> <td>8.75                       </td>\n",
       "        </tr>\n",
       "    </tbody>\n",
       "        <tr>\n",
       "            <td>2003</td> <td>7.84                       </td>\n",
       "        </tr>\n",
       "    </tbody>\n",
       "        <tr>\n",
       "            <td>2004</td> <td>7.9                        </td>\n",
       "        </tr>\n",
       "    </tbody>\n",
       "        <tr>\n",
       "            <td>2005</td> <td>8.09                       </td>\n",
       "        </tr>\n",
       "    </tbody>\n",
       "        <tr>\n",
       "            <td>2006</td> <td>7.64                       </td>\n",
       "        </tr>\n",
       "    </tbody>\n",
       "        <tr>\n",
       "            <td>2007</td> <td>7.2                        </td>\n",
       "        </tr>\n",
       "    </tbody>\n",
       "        <tr>\n",
       "            <td>2008</td> <td>7.46                       </td>\n",
       "        </tr>\n",
       "    </tbody>\n",
       "</table>\n",
       "<p>... (7 rows omitted)</p>"
      ],
      "text/plain": [
       "Year | Homocide death rate average\n",
       "1999 | 8.06\n",
       "2000 | 7.27\n",
       "2001 | 8.4\n",
       "2002 | 8.75\n",
       "2003 | 7.84\n",
       "2004 | 7.9\n",
       "2005 | 8.09\n",
       "2006 | 7.64\n",
       "2007 | 7.2\n",
       "2008 | 7.46\n",
       "... (7 rows omitted)"
      ]
     },
     "execution_count": 222,
     "metadata": {},
     "output_type": "execute_result"
    }
   ],
   "source": [
    "random_10_2"
   ]
  },
  {
   "cell_type": "code",
   "execution_count": 224,
   "metadata": {},
   "outputs": [
    {
     "data": {
      "image/png": "[encoded data removed]",
      "text/plain": [
       "<matplotlib.figure.Figure at 0x7f4bc417e2b0>"
      ]
     },
     "metadata": {},
     "output_type": "display_data"
    }
   ],
   "source": [
    "plt.plot(random_10_1.column(0),random_10_1.column(1))\n",
    "plt.ylabel('drug posioning death rate')\n",
    "plt.xlabel('Year')\n",
    "plt.title('drug posioning death rate over the years')\n",
    "plt.show()"
   ]
  },
  {
   "cell_type": "code",
   "execution_count": 225,
   "metadata": {},
   "outputs": [
    {
     "data": {
      "image/png": "[encoded data removed]",
      "text/plain": [
       "<matplotlib.figure.Figure at 0x7f4bc42b1dd8>"
      ]
     },
     "metadata": {},
     "output_type": "display_data"
    }
   ],
   "source": [
    "plt.plot(random_10_2.column(0),random_10_2.column(1))\n",
    "plt.ylabel('homocide death rate')\n",
    "plt.xlabel('Year')\n",
    "plt.title('homocide death rate over the years')\n",
    "plt.show()"
   ]
  },
  {
   "cell_type": "code",
   "execution_count": 228,
   "metadata": {},
   "outputs": [
    {
     "data": {
      "text/plain": [
       "array([[ 1.        , -0.71805376],\n",
       "       [-0.71805376,  1.        ]])"
      ]
     },
     "execution_count": 228,
     "metadata": {},
     "output_type": "execute_result"
    }
   ],
   "source": [
    "np.corrcoef(comparedata.column(1),comparedata.column(2))"
   ]
  },
  {
   "cell_type": "code",
   "execution_count": 240,
   "metadata": {},
   "outputs": [
    {
     "data": {
      "text/plain": [
       "array([[ 1.        , -0.77467851],\n",
       "       [-0.77467851,  1.        ]])"
      ]
     },
     "execution_count": 240,
     "metadata": {},
     "output_type": "execute_result"
    }
   ],
   "source": [
    "np.corrcoef(random_10_1.take[0:17].column(1),random_10_2.column(1))"
   ]
  },
  {
   "cell_type": "code",
   "execution_count": null,
   "metadata": {},
   "outputs": [],
   "source": [
    "#In this problem, we compare the trend between the 50 states over the year 1999-2015 as population, and the program\n",
    "# to random generate 10 states as samples. We view the 10 states as a single bootsrapts from the population. From both \n",
    "#the population and sample trend of drug poisoning death rate over the year , we can see that the trend is constantly going up, and \n",
    "# the homocide death rate trend over the year is going down with slight fluctuation in between. We calculate the correlation coefficient\n",
    "# between the two variables and they both shows negative correlation which shows that as the drug poisoning death rate over the years \n",
    "#increases, the homicide death rate decreases. Since correlation does not mean causation, we could not further investigate \n",
    "#from the trends. We made our hypothesis that the reason that homicide rates do not increase with the drug poisoning is that \n",
    "#the method of drug poisoning requires the very accurate amount and drugs that actually causes overdose to death. Many people who made\n",
    "#suicide attempt however, could not successfully suicides from the drug. Also, women is more likely to suicide by using \n",
    "#drug and men is more likely to suicide by guns. As the laws have less limitation on controlling the guns usage, it's easier \n",
    "#for anyone in US to have access to guns. Therefore, we predict that drug poisoning does have high suicide attempt rate but\n",
    "#not high suicide death rates."
   ]
  }
 ],
 "metadata": {
  "kernelspec": {
   "display_name": "Python 3",
   "language": "python",
   "name": "python3"
  },
  "language_info": {
   "codemirror_mode": {
    "name": "ipython",
    "version": 3
   },
   "file_extension": ".py",
   "mimetype": "text/x-python",
   "name": "python",
   "nbconvert_exporter": "python",
   "pygments_lexer": "ipython3",
   "version": "3.6.1"
  }
 },
 "nbformat": 4,
 "nbformat_minor": 2
}
